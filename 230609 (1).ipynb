{
  "nbformat": 4,
  "nbformat_minor": 0,
  "metadata": {
    "colab": {
      "provenance": [],
      "toc_visible": true
    },
    "kernelspec": {
      "name": "python3",
      "display_name": "Python 3"
    },
    "language_info": {
      "name": "python"
    }
  },
  "cells": [
    {
      "cell_type": "markdown",
      "source": [
        "# 알려주신 사항\n",
        "- 소스가 많이 익숙해져야 함\n",
        "- 코드에는 요구사항 -> 분석 -> 설계 -> 구현 순이 되어야 함\n",
        "- 어떻게든 결과값을 내야함(일단은 코드가 길더라도)(포기해서는 안됨)"
      ],
      "metadata": {
        "id": "Z19CLwTMgMuD"
      }
    },
    {
      "cell_type": "code",
      "execution_count": 20,
      "metadata": {
        "id": "r8K4I7-_eqbc",
        "colab": {
          "base_uri": "https://localhost:8080/"
        },
        "outputId": "208cf154-0bc2-4eff-f373-7935af4aff6e"
      },
      "outputs": [
        {
          "output_type": "stream",
          "name": "stdout",
          "text": [
            "0을 제외하고 중복되지 않은 3자리 숫자를 입력하세요>> 123\n",
            "0스트라이크 1볼\n",
            "0을 제외하고 중복되지 않은 3자리 숫자를 입력하세요>> 123\n",
            "0스트라이크 1볼\n",
            "0을 제외하고 중복되지 않은 3자리 숫자를 입력하세요>> 123\n",
            "0스트라이크 1볼\n",
            "0을 제외하고 중복되지 않은 3자리 숫자를 입력하세요>> 123\n",
            "0스트라이크 1볼\n",
            "0을 제외하고 중복되지 않은 3자리 숫자를 입력하세요>> 123\n",
            "0스트라이크 1볼\n",
            "0을 제외하고 중복되지 않은 3자리 숫자를 입력하세요>> 123\n",
            "0스트라이크 1볼\n",
            "0을 제외하고 중복되지 않은 3자리 숫자를 입력하세요>> 123\n",
            "0스트라이크 1볼\n",
            "0을 제외하고 중복되지 않은 3자리 숫자를 입력하세요>> 123\n",
            "0스트라이크 1볼\n",
            "0을 제외하고 중복되지 않은 3자리 숫자를 입력하세요>> 123\n",
            "게임에서 지셨습니다.\n",
            "다시 하시겠습니까? (Y/N)ㅈ\n",
            "잘못 입력하셔서 게임이 종료됩니다.\n"
          ]
        }
      ],
      "source": [
        "# 0을 포함하지 않는 야구게임 ver1\n",
        "import random\n",
        "while True:\n",
        "    while True:\n",
        "        # 리스트, 변수 초기화\n",
        "        baseball_list = []\n",
        "        user_list = []\n",
        "        strike = 0\n",
        "        ball = 0\n",
        "        # 시도 횟수\n",
        "        num = 0\n",
        "        # random함수로 123~987 사이의 숫자를 뽑기\n",
        "        # random.randrange(m,n+1) : m부터 n까지의 숫자를 랜덤으로 뽑기\n",
        "        baseball = random.randrange(123,988)\n",
        "        # 1. 백의자리는 0이 나올 수 없기에 십의자리랑 일의자리에 0이 나오지 않을 때 계속 진행\n",
        "        if ((baseball%100)//10!=0) and ((baseball%10)!=0):\n",
        "            # 2. 백의자리와 십의자리 숫자, 백의자리와 일의자리 숫자, 십의자리와 일의자리 숫자가 같아서는 안됨\n",
        "            if (((baseball//100)!=((baseball%100)//10)) and ((baseball//100)!=(baseball%10)) and (((baseball%100)//10)!=(baseball%10))):\n",
        "                # baseball_list에 랜덤으로 뽑은 숫자의 백,십,일의자리 숫자 넣음\n",
        "                for i in range(3):\n",
        "                    baseball_list.append(int(str(baseball)[i]))\n",
        "                while True:\n",
        "                    # 3. 게임 진행할 숫자(0을 제외한) 뽑고 중복 제거\n",
        "                    user = input(\"0을 제외하고 중복되지 않은 3자리 숫자를 입력하세요>> \")\n",
        "                    if (len(user)==3):\n",
        "                        if (((int(user[0])!=0) and (int(user[1])!=0) and (int(user[2])!=0)) and ((int(user[0]) != int(user[1])) and (int(user[0]) != int(user[2])) and (int(user[1]) != int(user[2])))):\n",
        "                            for i in range(3):\n",
        "                                user_list.append(int(user[i]))\n",
        "                        else:\n",
        "                            continue\n",
        "                    else:\n",
        "                        continue\n",
        "                    # 시도 추가\n",
        "                    num = num +1\n",
        "                    if (num==9):\n",
        "                        print(\"게임에서 지셨습니다.\")\n",
        "                        break\n",
        "                    else:\n",
        "                        # print(\"....\")\n",
        "                        pass\n",
        "                    # 4. 스트라이크 계산\n",
        "                    for i in range(3):\n",
        "                        if (baseball_list[i]==user_list[i]):\n",
        "                            strike = strike+1\n",
        "                        #  5. 볼 계산\n",
        "                        elif baseball_list[i] in user_list:\n",
        "                            ball = ball+1\n",
        "                    # 3스트라이크면 break로 게임 승리\n",
        "                    if (strike==3):\n",
        "                        print(f\"{strike}스트라이크 게임 승리\")\n",
        "                        break\n",
        "                    # 3아웃이면 contuinue로 while문 다시 시작\n",
        "                    elif ((strike==0) and (ball==0)):\n",
        "                        print(\"3 OUT!!!\")\n",
        "                        continue\n",
        "                    # 나머지는 continue로 while문 다시 시작\n",
        "                    else:\n",
        "                        print(f\"{strike}스트라이크 {ball}볼\")\n",
        "                        user_list = []\n",
        "                        strike=0\n",
        "                        ball=0\n",
        "                        continue\n",
        "            else:\n",
        "                # print(\"숫자를 다시 뽑아야함\")\n",
        "                continue\n",
        "            break\n",
        "    retry = input(\"다시 하시겠습니까? (Y/N)\")\n",
        "    if (retry == 'Y'):\n",
        "        print(\"다시 ㄱㄱ\")\n",
        "        continue\n",
        "    elif (retry == 'N'):\n",
        "        print(\"게임 종료\")\n",
        "        break\n",
        "    print(\"잘못 입력하셔서 게임이 종료됩니다.\")\n",
        "    break"
      ]
    },
    {
      "cell_type": "code",
      "source": [
        "# 파이썬 input되는 값 가리기\n",
        "import getpass\n",
        "\n",
        "pw = getpass.getpass(\"Input Word: \")\n",
        "print(\"\\n\",pw)"
      ],
      "metadata": {
        "colab": {
          "base_uri": "https://localhost:8080/"
        },
        "id": "ESNzqbWms435",
        "outputId": "b15db47f-ceb1-4e67-e26b-7060afa88c22"
      },
      "execution_count": 26,
      "outputs": [
        {
          "output_type": "stream",
          "name": "stdout",
          "text": [
            "Input Word: ··········\n",
            "\n",
            " rkrkrk\n"
          ]
        }
      ]
    },
    {
      "cell_type": "code",
      "source": [
        "# 로또 번호 출력기\n",
        "# 1줄 1000원\n",
        "# 결과 값 5줄\n",
        "# 줄 당 번호 6개\n",
        "# 안내 문구 ~~~~(몇회차, 오늘날짜, 발표일을 안내 문구에 출력해야 함)\n",
        "# 몇 줄 또는 얼마 구매 할 건지\n",
        "# 자동, 수동, 반자동 선택하기(자동 5줄, 수동 5줄, 반자동[방법 다양])\n",
        "# 숫자 나오고(아직 출력 X)\n",
        "# 숫자 그대로 출력할건지(출력 시 pass 또는 break로 print) 아닌건지(continue)"
      ],
      "metadata": {
        "id": "w2EbLJ74qQAG"
      },
      "execution_count": null,
      "outputs": []
    },
    {
      "cell_type": "code",
      "source": [
        "# 로또 번호 출력기 ver1\n",
        "# 로또 : 45개 숫자를 중복 없이 6개\n",
        "# lottoList에 1부터 45까지의 숫자 입력\n",
        "import random\n",
        "lottoList = []\n",
        "for i in range(1,46):\n",
        "    lottoList.append(i)\n",
        "# 1줄 1000원\n",
        "# 결과 값 5줄\n",
        "# 줄 당 번호 6개\n",
        "# 안내 문구 ~~~~(몇회차, 오늘날짜, 발표일을 안내 문구에 출력해야 함)\n",
        "# 회차 : round, 오늘 날짜 : today, 발표일 : ann_dt\n",
        "round = 32\n",
        "today = '2023-06-09'\n",
        "ann_dt = '2023-06-10'\n",
        "print(f\"제 {round}회차\\n오늘날짜 : {today}\\n발표일 : {ann_dt}\")\n",
        "# 몇 줄 또는 얼마 구매 할 건지\n",
        "# 1~5\n",
        "purchase = int(input(\"얼마나 구매하시겠습니까?\\n줄 당 1000원, 최대 5줄 구매 가능\\n(줄단위로 입력하세요)\"))\n",
        "# row = int(input(\"몇 줄 구매하시겠습니까?(숫자만 입력해주세요)\")) \n",
        "# 자동, 수동, 반자동 선택하기(자동 5줄, 수동 5줄, 반자동[방법 다양])\n",
        "choice = input(\"자동, 수동, 반자동을 입력하세요 >> \")\n",
        "# 1) 자동\n",
        "if (choice=='자동'):\n",
        "    for i in range(purchase):\n",
        "        # 하... globals()함수.......\n",
        "        # 자동은 숫자형으로 리스트에 저장됨\n",
        "        globals()[f\"autoList{i}\"] = random.sample(lottoList,6)\n",
        "        print(f\"{i+1}번째 종이\")\n",
        "        print(globals()[f\"autoList{i}\"])\n",
        "# 2) 수동\n",
        "elif (choice=='수동'):\n",
        "    for i in range(purchase):\n",
        "        manual = input(\"숫자 6개를 띄어쓰기로 입력하시오 >> \")\n",
        "        # 하... globals()함수.......split에...map.......\n",
        "        # 수동은 문자형으로 리스트에 저장됨\n",
        "        globals()[f\"manualList{i}\"] = list(map(int, manual.split(' ')))\n",
        "        print(f\"{i+1}번째 종이\")\n",
        "        print(globals()[f\"manualList{i}\"])\n",
        "\n",
        "\n",
        "# 3) 반자동은 좀 더 고민해보자\n",
        "# 3-1) 5개 이하의 개수를 리스트에 저장\n",
        "# 3-2) 그 나머지 개수를 random.sample로 lottoList에서 가져오기\n",
        "# 3-2) 여기서 문제는 lottoList에서 가져오는 숫자가 반자동으로 가져온 숫자와 중복되어서는 안 됨\n",
        "# elif (choice==\"반자동\"):\n",
        "#     for i in range(purchase):\n",
        "#         semiAuto = input('수동으로 작성할 수 띄어쓰기로 입력 >> ')\n",
        "#         globals()[f\"semiList{i}\"] = list(map(int, semiAuto.split(' ')))\n",
        "#         print(globals()[f\"semiList{i}\"])\n",
        "#         for i in range(len(globals()[f\"semiList{i}\"])):\n",
        "#             if globals()[f\"semiList{i}\"][i] in lottoList:\n",
        "#                 lottoList.remove(globals()[f\"semiList{i}\"][i])\n",
        "#             print(globals()[f\"semiList{i}\"])\n",
        "    \n",
        "\n",
        "\n",
        "else:\n",
        "    print(\"다시 입력 요망\")\n",
        "# 숫자 나오고(아직 출력 X)\n",
        "# 숫자 그대로 출력할건지(출력 시 pass 또는 break로 print) 아닌건지(continue)"
      ],
      "metadata": {
        "colab": {
          "base_uri": "https://localhost:8080/"
        },
        "id": "kebXC64ymhWK",
        "outputId": "0ac95034-de29-41e5-d596-1bfbe40eae14"
      },
      "execution_count": 87,
      "outputs": [
        {
          "output_type": "stream",
          "name": "stdout",
          "text": [
            "제 32회차\n",
            "오늘날짜 : 2023-06-09\n",
            "발표일 : 2023-06-10\n",
            "얼마나 구매하시겠습니까?\n",
            "줄 당 1000원, 최대 5줄 구매 가능\n",
            "(줄단위로 입력하세요)2\n",
            "자동, 수동, 반자동을 입력하세요 >> 수동\n",
            "숫자 6개를 띄어쓰기로 입력하시오 >> 1 2 3 45 42 24\n",
            "1번째 종이\n",
            "[1, 2, 3, 45, 42, 24]\n",
            "숫자 6개를 띄어쓰기로 입력하시오 >> 2 43 31 32 30\n",
            "2번째 종이\n",
            "[2, 43, 31, 32, 30]\n"
          ]
        }
      ]
    },
    {
      "cell_type": "code",
      "source": [
        "lottoList = []\n",
        "for i in range(1,46):\n",
        "    lottoList.append(i)\n",
        "# 숫자 '4 5 6 7 8'\n",
        "num = '4 5 6 7 8'\n",
        "numList = num.split(' ')\n",
        "print(numList)\n",
        "for i in range(len(numList)):\n",
        "    lottoList.remove(int(numList[i]))\n",
        "# lottoList.remove(4)\n",
        "lottoList"
      ],
      "metadata": {
        "colab": {
          "base_uri": "https://localhost:8080/"
        },
        "id": "PfTBIrcW9orJ",
        "outputId": "38d75ad8-cbd1-40bc-8fb4-8c88da8ffa43"
      },
      "execution_count": 37,
      "outputs": [
        {
          "output_type": "stream",
          "name": "stdout",
          "text": [
            "['4', '5', '6', '7', '8']\n"
          ]
        },
        {
          "output_type": "execute_result",
          "data": {
            "text/plain": [
              "[1,\n",
              " 2,\n",
              " 3,\n",
              " 9,\n",
              " 10,\n",
              " 11,\n",
              " 12,\n",
              " 13,\n",
              " 14,\n",
              " 15,\n",
              " 16,\n",
              " 17,\n",
              " 18,\n",
              " 19,\n",
              " 20,\n",
              " 21,\n",
              " 22,\n",
              " 23,\n",
              " 24,\n",
              " 25,\n",
              " 26,\n",
              " 27,\n",
              " 28,\n",
              " 29,\n",
              " 30,\n",
              " 31,\n",
              " 32,\n",
              " 33,\n",
              " 34,\n",
              " 35,\n",
              " 36,\n",
              " 37,\n",
              " 38,\n",
              " 39,\n",
              " 40,\n",
              " 41,\n",
              " 42,\n",
              " 43,\n",
              " 44,\n",
              " 45]"
            ]
          },
          "metadata": {},
          "execution_count": 37
        }
      ]
    },
    {
      "cell_type": "code",
      "source": [
        "import random\n",
        "lottoList = []\n",
        "for i in range(1,46):\n",
        "    lottoList.append(i)\n",
        "purchase = int(input(\"얼마나 구매하시겠습니까?\\n줄 당 1000원, 최대 5줄 구매 가능\\n(줄단위로 입력하세요)\"))\n",
        "for i in range(purchase):\n",
        "        semiAuto = input('수동으로 작성할 수 띄어쓰기로 입력 >> ')\n",
        "        globals()[f\"semiList{i}\"] = list(map(int, semiAuto.split(' ')))\n",
        "        print(globals()[f\"semiList{i}\"])"
      ],
      "metadata": {
        "colab": {
          "base_uri": "https://localhost:8080/"
        },
        "id": "Ec7HprFxbvlI",
        "outputId": "aad7a739-bf7d-4ad3-e2f3-f0d7b44b59a3"
      },
      "execution_count": 85,
      "outputs": [
        {
          "output_type": "stream",
          "name": "stdout",
          "text": [
            "얼마나 구매하시겠습니까?\n",
            "줄 당 1000원, 최대 5줄 구매 가능\n",
            "(줄단위로 입력하세요)3\n",
            "수동으로 작성할 수 띄어쓰기로 입력 >> 32 21 34\n",
            "[32, 21, 34]\n",
            "수동으로 작성할 수 띄어쓰기로 입력 >> 21 32 43\n",
            "[21, 32, 43]\n",
            "수동으로 작성할 수 띄어쓰기로 입력 >> 45 34 23\n",
            "[45, 34, 23]\n"
          ]
        }
      ]
    },
    {
      "cell_type": "code",
      "source": [
        "semiAuto = input('수동으로 작성할 수 띄어쓰기로 입력 >> ')\n",
        "semiList = semiAuto.split(' ')\n",
        "print(semiList)"
      ],
      "metadata": {
        "colab": {
          "base_uri": "https://localhost:8080/"
        },
        "id": "fFJtup6hcvUO",
        "outputId": "e27e0de4-420d-4cf3-93c0-035fbbc52cb8"
      },
      "execution_count": 81,
      "outputs": [
        {
          "output_type": "stream",
          "name": "stdout",
          "text": [
            "수동으로 작성할 수 띄어쓰기로 입력 >> 32 23 21\n",
            "['32', '23', '21']\n"
          ]
        }
      ]
    },
    {
      "cell_type": "code",
      "source": [
        "import random\n",
        "lottoList = []\n",
        "for i in range(1,46):\n",
        "    lottoList.append(i)\n",
        "purchase = int(input(\"얼마나 구매하시겠습니까?\\n줄 당 1000원, 최대 5줄 구매 가능\\n(줄단위로 입력하세요)\"))\n",
        "for i in range(purchase):\n",
        "        semiAuto = input('수동으로 작성할 수 띄어쓰기로 입력 >> ')\n",
        "        globals()[f\"semiList{i}\"] = list(map(int, semiAuto.split(' ')))\n",
        "        print(globals()[f\"semiList{i}\"])"
      ],
      "metadata": {
        "id": "bVP1NTk6cxw6"
      },
      "execution_count": null,
      "outputs": []
    },
    {
      "cell_type": "code",
      "source": [
        "import random\n",
        "lottoList = []\n",
        "for i in range(1,46):\n",
        "    lottoList.append(i)\n",
        "purchase = int(input(\"얼마나 구매하시겠습니까?\\n줄 당 1000원, 최대 5줄 구매 가능\\n(줄단위로 입력하세요)\"))\n",
        "for i in range(purchase):\n",
        "        semiAuto = input('수동으로 작성할 수 띄어쓰기로 입력 >> ')\n",
        "        globals()[f\"semiList{i}\"] = list(map(int, semiAuto.split(' ')))\n",
        "        print(globals()[f\"semiList{i}\"])"
      ],
      "metadata": {
        "id": "axPLXKHFcwTL"
      },
      "execution_count": null,
      "outputs": []
    },
    {
      "cell_type": "code",
      "source": [
        "# 리스트에서 1개만 랜덤 추출\n",
        "import random\n",
        "lista = [1,2,3,4,5]\n",
        "choicelist = random.choice(lista)\n",
        "choicelist"
      ],
      "metadata": {
        "colab": {
          "base_uri": "https://localhost:8080/"
        },
        "id": "V2ysxVm0AxHy",
        "outputId": "ac17d4d3-c207-4d28-9b81-292228efc422"
      },
      "execution_count": 40,
      "outputs": [
        {
          "output_type": "execute_result",
          "data": {
            "text/plain": [
              "2"
            ]
          },
          "metadata": {},
          "execution_count": 40
        }
      ]
    },
    {
      "cell_type": "code",
      "source": [
        "# 리스트에서 여러개 랜덤 추출\n",
        "import random\n",
        "lista = [1,2,3,4,5]\n",
        "choicelist = random.sample(lista,3)\n",
        "choicelist"
      ],
      "metadata": {
        "colab": {
          "base_uri": "https://localhost:8080/"
        },
        "id": "AKlaRgItBTLI",
        "outputId": "a75285ad-a838-48b6-fe8b-5f1e12fef2f8"
      },
      "execution_count": 51,
      "outputs": [
        {
          "output_type": "execute_result",
          "data": {
            "text/plain": [
              "[2, 1, 5]"
            ]
          },
          "metadata": {},
          "execution_count": 51
        }
      ]
    },
    {
      "cell_type": "code",
      "source": [
        "lottoList = []\n",
        "rowList = [1,2,3,4,5]\n",
        "purchaseList = [1000,2000,3000,4000,5000]\n",
        "\n",
        "for i in range(1,46):\n",
        "    lottoList.append(i)\n",
        "\n",
        "for i in range(5):\n",
        "    print(i)"
      ],
      "metadata": {
        "colab": {
          "base_uri": "https://localhost:8080/"
        },
        "id": "gzbw3grFDxry",
        "outputId": "5e24f969-0bc5-4447-e37e-0dca062fe3bd"
      },
      "execution_count": 43,
      "outputs": [
        {
          "output_type": "stream",
          "name": "stdout",
          "text": [
            "0\n",
            "1\n",
            "2\n",
            "3\n",
            "4\n"
          ]
        }
      ]
    },
    {
      "cell_type": "code",
      "source": [
        "import random\n",
        "lista = [1,2,3,4,5]\n",
        "for i in range(5):\n",
        "    globals()[f\"choiceList{i}\"] = random.sample(lista,3)\n",
        "    print(globals()[f\"choiceList{i}\"])\n"
      ],
      "metadata": {
        "colab": {
          "base_uri": "https://localhost:8080/"
        },
        "id": "_6gnHRobFbqz",
        "outputId": "d769afe1-20bf-4033-a925-b8b680f97774"
      },
      "execution_count": 61,
      "outputs": [
        {
          "output_type": "stream",
          "name": "stdout",
          "text": [
            "[3, 2, 4]\n",
            "[5, 3, 2]\n",
            "[2, 3, 5]\n",
            "[2, 4, 1]\n",
            "[4, 5, 1]\n"
          ]
        }
      ]
    },
    {
      "cell_type": "code",
      "source": [
        "a = input(\"\")"
      ],
      "metadata": {
        "colab": {
          "base_uri": "https://localhost:8080/"
        },
        "id": "r-GkYMueKM7O",
        "outputId": "aebac77e-0233-4f17-e82f-d7d0fa664c0d"
      },
      "execution_count": 62,
      "outputs": [
        {
          "name": "stdout",
          "output_type": "stream",
          "text": [
            "d d d d d d\n"
          ]
        }
      ]
    },
    {
      "cell_type": "markdown",
      "source": [
        "# 복합 자료형"
      ],
      "metadata": {
        "id": "zBHylcLlw_xz"
      }
    },
    {
      "cell_type": "markdown",
      "source": [
        "## 리스트\n"
      ],
      "metadata": {
        "id": "1Pbq9IrXj5Dm"
      }
    },
    {
      "cell_type": "code",
      "source": [
        "print(int('123'))\n",
        "print(bool(int('123')))"
      ],
      "metadata": {
        "colab": {
          "base_uri": "https://localhost:8080/"
        },
        "id": "9reXshK9lLgZ",
        "outputId": "e021187d-fb63-4d24-b107-69374a6c453c"
      },
      "execution_count": null,
      "outputs": [
        {
          "output_type": "stream",
          "name": "stdout",
          "text": [
            "123\n",
            "True\n"
          ]
        }
      ]
    },
    {
      "cell_type": "code",
      "source": [
        "num = '123'\n",
        "num.replace('2','5')"
      ],
      "metadata": {
        "colab": {
          "base_uri": "https://localhost:8080/",
          "height": 35
        },
        "id": "g9oFLInBlOAz",
        "outputId": "da68ec23-7e3e-482c-ea11-43c217d1fdd2"
      },
      "execution_count": null,
      "outputs": [
        {
          "output_type": "execute_result",
          "data": {
            "text/plain": [
              "'153'"
            ],
            "application/vnd.google.colaboratory.intrinsic+json": {
              "type": "string"
            }
          },
          "metadata": {},
          "execution_count": 13
        }
      ]
    },
    {
      "cell_type": "code",
      "source": [
        "# 문자열에서는 인덱스로 값 변경 불가능\n",
        "str_1 = 'Hello'\n",
        "str_1[4] = 'z'\n",
        "str_1"
      ],
      "metadata": {
        "colab": {
          "base_uri": "https://localhost:8080/"
        },
        "id": "6D5RpRCqvrMF",
        "outputId": "d2eadef8-6ee6-451a-8a5f-7d0b43c7c1e3"
      },
      "execution_count": null,
      "outputs": [
        {
          "output_type": "execute_result",
          "data": {
            "text/plain": [
              "['H', 'e', 'l', 'l', 'z']"
            ]
          },
          "metadata": {},
          "execution_count": 17
        }
      ]
    },
    {
      "cell_type": "code",
      "source": [
        "# 리스트에서는 인덱스로 값 변경 가능\n",
        "str_L = ['H', 'e', 'l', 'l', 'o']\n",
        "str_L[4] = 'z'\n"
      ],
      "metadata": {
        "id": "MjnfAYqcwEs2"
      },
      "execution_count": 22,
      "outputs": []
    },
    {
      "cell_type": "code",
      "source": [
        "# 리스트에서 인덱스 범위가 벗어난 경우 index error 발생\n",
        "str_L = ['H', 'e', 'l', 'l', 'o']\n",
        "str_L[5]"
      ],
      "metadata": {
        "colab": {
          "base_uri": "https://localhost:8080/",
          "height": 211
        },
        "id": "QikN2Lvr1zmz",
        "outputId": "f848e10a-9edf-40f5-80f1-b338ceeb5f44"
      },
      "execution_count": 23,
      "outputs": [
        {
          "output_type": "error",
          "ename": "IndexError",
          "evalue": "ignored",
          "traceback": [
            "\u001b[0;31m---------------------------------------------------------------------------\u001b[0m",
            "\u001b[0;31mIndexError\u001b[0m                                Traceback (most recent call last)",
            "\u001b[0;32m<ipython-input-23-5293dcd54ec1>\u001b[0m in \u001b[0;36m<cell line: 3>\u001b[0;34m()\u001b[0m\n\u001b[1;32m      1\u001b[0m \u001b[0;31m# 리스트에서 인덱스 범위가 벗어난 경우 index error 발생\u001b[0m\u001b[0;34m\u001b[0m\u001b[0;34m\u001b[0m\u001b[0m\n\u001b[1;32m      2\u001b[0m \u001b[0mstr_L\u001b[0m \u001b[0;34m=\u001b[0m \u001b[0;34m[\u001b[0m\u001b[0;34m'H'\u001b[0m\u001b[0;34m,\u001b[0m \u001b[0;34m'e'\u001b[0m\u001b[0;34m,\u001b[0m \u001b[0;34m'l'\u001b[0m\u001b[0;34m,\u001b[0m \u001b[0;34m'l'\u001b[0m\u001b[0;34m,\u001b[0m \u001b[0;34m'o'\u001b[0m\u001b[0;34m]\u001b[0m\u001b[0;34m\u001b[0m\u001b[0;34m\u001b[0m\u001b[0m\n\u001b[0;32m----> 3\u001b[0;31m \u001b[0mstr_L\u001b[0m\u001b[0;34m[\u001b[0m\u001b[0;36m5\u001b[0m\u001b[0;34m]\u001b[0m\u001b[0;34m\u001b[0m\u001b[0;34m\u001b[0m\u001b[0m\n\u001b[0m",
            "\u001b[0;31mIndexError\u001b[0m: list index out of range"
          ]
        }
      ]
    },
    {
      "cell_type": "code",
      "source": [
        "num = 123\n",
        "lst = [123, num, [1,2,3]]\n",
        "print(lst[1])"
      ],
      "metadata": {
        "colab": {
          "base_uri": "https://localhost:8080/"
        },
        "id": "g8imkDvV1-zD",
        "outputId": "606a1de4-22f4-4e18-b699-980be6376452"
      },
      "execution_count": 24,
      "outputs": [
        {
          "output_type": "stream",
          "name": "stdout",
          "text": [
            "123\n"
          ]
        }
      ]
    },
    {
      "cell_type": "code",
      "source": [
        "str_num = '12345'\n",
        "str_hi = 'hello'\n",
        "\n",
        "cnt = len(str_num)\n",
        "cnt\n",
        "# len()\n",
        "# index()\n",
        "# "
      ],
      "metadata": {
        "colab": {
          "base_uri": "https://localhost:8080/"
        },
        "id": "tDN1_Tyy2x5N",
        "outputId": "87141a99-3c42-46d5-833f-bd8675489ea4"
      },
      "execution_count": 28,
      "outputs": [
        {
          "output_type": "execute_result",
          "data": {
            "text/plain": [
              "5"
            ]
          },
          "metadata": {},
          "execution_count": 28
        }
      ]
    },
    {
      "cell_type": "markdown",
      "source": [
        "### range() 함수"
      ],
      "metadata": {
        "id": "2jSYDV3zlqPW"
      }
    },
    {
      "cell_type": "code",
      "source": [
        "# range(시작,끝,증가폭) : 보통 시작과 끝 값만 적음\n",
        "# 복합자료형을 만들 때 사용\n",
        "\n",
        "print(range(0,5))"
      ],
      "metadata": {
        "colab": {
          "base_uri": "https://localhost:8080/"
        },
        "id": "S2QWRgST9IUa",
        "outputId": "2cb98761-f052-4303-bfb7-8f100185c4f6"
      },
      "execution_count": 88,
      "outputs": [
        {
          "output_type": "stream",
          "name": "stdout",
          "text": [
            "range(0, 5)\n"
          ]
        }
      ]
    },
    {
      "cell_type": "code",
      "source": [
        "type(range(0,5))"
      ],
      "metadata": {
        "colab": {
          "base_uri": "https://localhost:8080/"
        },
        "id": "mFWppglJjaKu",
        "outputId": "7d707cc9-c379-435b-8844-e38605218425"
      },
      "execution_count": 89,
      "outputs": [
        {
          "output_type": "execute_result",
          "data": {
            "text/plain": [
              "range"
            ]
          },
          "metadata": {},
          "execution_count": 89
        }
      ]
    },
    {
      "cell_type": "code",
      "source": [
        "list(range(0,5))"
      ],
      "metadata": {
        "colab": {
          "base_uri": "https://localhost:8080/"
        },
        "id": "w9IewvkIjlF2",
        "outputId": "58c421c4-8313-4a63-e052-f205300a7c79"
      },
      "execution_count": 90,
      "outputs": [
        {
          "output_type": "execute_result",
          "data": {
            "text/plain": [
              "[0, 1, 2, 3, 4]"
            ]
          },
          "metadata": {},
          "execution_count": 90
        }
      ]
    },
    {
      "cell_type": "code",
      "source": [
        "lst_name = ['민준', '서준', '도윤', '예준', '시우', '하준', '주원', '지호']\n",
        "\n",
        "# 방법1\n",
        "print(range(0, 10, 1))\n",
        "print(lst_name[0:4:1])\n",
        "\n",
        "# 방법2\n",
        "print(range(0, 10))\n",
        "print(lst_name[0:6])\n",
        "\n",
        "# 방법3\n",
        "print(range(10))\n",
        "print(lst_name[ :8])\n",
        "\n",
        "# 방법4\n",
        "# print(range( , 10, 1))\n",
        "print(lst_name[ :8:2])"
      ],
      "metadata": {
        "colab": {
          "base_uri": "https://localhost:8080/"
        },
        "id": "FbDZ7-ZhkEJU",
        "outputId": "dddee763-b57f-4495-c316-cdcb2856dfe7"
      },
      "execution_count": 92,
      "outputs": [
        {
          "output_type": "stream",
          "name": "stdout",
          "text": [
            "range(0, 10)\n",
            "['민준', '서준', '도윤', '예준']\n",
            "range(0, 10)\n",
            "['민준', '서준', '도윤', '예준', '시우', '하준']\n",
            "range(0, 10)\n",
            "['민준', '서준', '도윤', '예준', '시우', '하준', '주원', '지호']\n",
            "['민준', '도윤', '시우', '주원']\n"
          ]
        }
      ]
    },
    {
      "cell_type": "markdown",
      "source": [
        "### list() 함수"
      ],
      "metadata": {
        "id": "agPJJmCOlt56"
      }
    },
    {
      "cell_type": "code",
      "source": [
        "# range()를 list()로 감싸면 리스트 생성\n",
        "\n",
        "# range( )함수와 list( ) 함수 사용법(1)\n",
        "\n",
        "lst_range1 = list(range(0, 10, 1))\n",
        "print(lst_range1)\n",
        "\n",
        "\n",
        "# range( )함수와 list( ) 함수 사용법(2)\n",
        "\n",
        "gap = 6\n",
        "lst_range2 = list(range(0, 10*gap, gap))\n",
        "print(lst_range2)"
      ],
      "metadata": {
        "colab": {
          "base_uri": "https://localhost:8080/"
        },
        "id": "gjkm8MWgkeM1",
        "outputId": "63eda32b-8e0f-41a0-aa13-606f260b5ebf"
      },
      "execution_count": 93,
      "outputs": [
        {
          "output_type": "stream",
          "name": "stdout",
          "text": [
            "[0, 1, 2, 3, 4, 5, 6, 7, 8, 9]\n",
            "[0, 6, 12, 18, 24, 30, 36, 42, 48, 54]\n"
          ]
        }
      ]
    },
    {
      "cell_type": "markdown",
      "source": [
        "#### 리스트에 요소 추가"
      ],
      "metadata": {
        "id": "yiPQKmgdmFlB"
      }
    },
    {
      "cell_type": "code",
      "source": [],
      "metadata": {
        "id": "-88dy4uLlau9"
      },
      "execution_count": null,
      "outputs": []
    }
  ]
}