{
  "nbformat": 4,
  "nbformat_minor": 0,
  "metadata": {
    "colab": {
      "provenance": [],
      "authorship_tag": "ABX9TyOf3afJBfZIDMJi3XeDqTgB",
      "include_colab_link": true
    },
    "kernelspec": {
      "name": "python3",
      "display_name": "Python 3"
    },
    "language_info": {
      "name": "python"
    }
  },
  "cells": [
    {
      "cell_type": "markdown",
      "metadata": {
        "id": "view-in-github",
        "colab_type": "text"
      },
      "source": [
        "<a href=\"https://colab.research.google.com/github/Yoonseungwook/lms23/blob/main/230619.ipynb\" target=\"_parent\"><img src=\"https://colab.research.google.com/assets/colab-badge.svg\" alt=\"Open In Colab\"/></a>"
      ]
    },
    {
      "cell_type": "markdown",
      "source": [
        "# 수업 Intro\n",
        "- 이제부터 모든 문제는 함수로 만들 것\n",
        "- 코드는 함수 위주"
      ],
      "metadata": {
        "id": "F9ulhbjtB9OV"
      }
    },
    {
      "cell_type": "markdown",
      "source": [
        "# 함수\n",
        "- 함수를 정의 → 함수를 호출 → 함수의 실행결과를 반환\n",
        "- 매개변수(변수명), 실인수(실제값), 인자 → 파라미터\n",
        "- 매개변수, return 은 필요하면 사용, 안써도 됨\n",
        "- 반환하는 값은 하나\n",
        "- 여러 개를 반환하려면 리스트에 담아서 반환하라\n",
        "- return : 사용 시 함수가 종료됨\n",
        "- 매개변수의 초기값을 정할 수 있음,기본값을 지정하면 기본값으로 출력\n",
        "- lambda : 최신기술... 아직 쓰지 말 것"
      ],
      "metadata": {
        "id": "KDIk1ky0PcNw"
      }
    },
    {
      "cell_type": "code",
      "source": [
        "def hello():\n",
        "    print(\"hello world!\")"
      ],
      "metadata": {
        "id": "H4pksXxSOcx3"
      },
      "execution_count": 25,
      "outputs": []
    },
    {
      "cell_type": "code",
      "source": [
        "hello()"
      ],
      "metadata": {
        "colab": {
          "base_uri": "https://localhost:8080/"
        },
        "id": "4cLFAShwOkO1",
        "outputId": "23dad07f-2f6e-4552-ebd9-886d2d12a48b"
      },
      "execution_count": 26,
      "outputs": [
        {
          "output_type": "stream",
          "name": "stdout",
          "text": [
            "hello world!\n"
          ]
        }
      ]
    },
    {
      "cell_type": "code",
      "source": [
        "# 함수 정의\n",
        "def hello():\n",
        "    print(\"함수 실행1\")\n",
        "    print(\"안녕\")\n",
        "    print(\"함수 실행2\") # 4. 함수 코드 블럭 종료\n",
        "\n",
        "# 1\n",
        "cnt = 1\n",
        "print(cnt)\n",
        "\n",
        "# 2 정의된 함수 호출\n",
        "hello() # 3 정의된 함수 실행\n",
        "\n",
        "# 5\n",
        "cnt += 1\n",
        "print(cnt)"
      ],
      "metadata": {
        "colab": {
          "base_uri": "https://localhost:8080/"
        },
        "id": "rPFHgfkuSIZ0",
        "outputId": "803ed35f-e154-4342-9d45-0117d23b8251"
      },
      "execution_count": 30,
      "outputs": [
        {
          "output_type": "stream",
          "name": "stdout",
          "text": [
            "1\n",
            "함수 실행1\n",
            "안녕\n",
            "함수 실행2\n",
            "2\n"
          ]
        }
      ]
    },
    {
      "cell_type": "code",
      "source": [
        "# 함수 정의\n",
        "def hello(name):           # 함수 내부로 전달받을 매개변수 지정\n",
        "    print(\"함수 실행1\")\n",
        "    print(\"안녕\", name)   # 함수 내부에서 매개변수 사용\n",
        "    print(\"함수 실행2\")   # 4. 함수 코드 블럭 종료\n",
        "\n",
        "# 1\n",
        "cnt = 1\n",
        "print(cnt)\n",
        "\n",
        "# 2 정의된 함수 호출\n",
        "hello(\"파이썬\") # 3 정의된 함수 실행\n",
        "\n",
        "\n",
        "# 5\n",
        "cnt += 1\n",
        "print(cnt)"
      ],
      "metadata": {
        "colab": {
          "base_uri": "https://localhost:8080/"
        },
        "id": "HiW0_n7IU0_R",
        "outputId": "d428beae-1e32-4876-b3ec-500d30e0fcbf"
      },
      "execution_count": 37,
      "outputs": [
        {
          "output_type": "stream",
          "name": "stdout",
          "text": [
            "1\n",
            "함수 실행1\n",
            "안녕 파이썬\n",
            "함수 실행2\n",
            "2\n"
          ]
        }
      ]
    },
    {
      "cell_type": "code",
      "source": [
        "hello()"
      ],
      "metadata": {
        "colab": {
          "base_uri": "https://localhost:8080/",
          "height": 174
        },
        "id": "sgQ9tKhKU69Q",
        "outputId": "160dbadb-cf86-4a2b-dcae-f0a1cc750685"
      },
      "execution_count": 38,
      "outputs": [
        {
          "output_type": "error",
          "ename": "TypeError",
          "evalue": "ignored",
          "traceback": [
            "\u001b[0;31m---------------------------------------------------------------------------\u001b[0m",
            "\u001b[0;31mTypeError\u001b[0m                                 Traceback (most recent call last)",
            "\u001b[0;32m<ipython-input-38-a75d7781aaeb>\u001b[0m in \u001b[0;36m<cell line: 1>\u001b[0;34m()\u001b[0m\n\u001b[0;32m----> 1\u001b[0;31m \u001b[0mhello\u001b[0m\u001b[0;34m(\u001b[0m\u001b[0;34m)\u001b[0m\u001b[0;34m\u001b[0m\u001b[0;34m\u001b[0m\u001b[0m\n\u001b[0m",
            "\u001b[0;31mTypeError\u001b[0m: hello() missing 1 required positional argument: 'name'"
          ]
        }
      ]
    },
    {
      "cell_type": "code",
      "source": [
        "# 함수 정의\n",
        "# parameter 앞에 *를 적으면 에러가 뜨지 않는다.\n",
        "# *name : 여러 개를 입력받을 수 있으므로\n",
        "def hello(*name):           # 함수 내부로 전달받을 매개변수 지정\n",
        "    print(\"함수 실행1\")\n",
        "    print(\"안녕\", name)   # 함수 내부에서 매개변수 사용\n",
        "    print(\"함수 실행2\")   # 4. 함수 코드 블럭 종료\n",
        "\n",
        "# 1\n",
        "cnt = 1\n",
        "print(cnt)\n",
        "\n",
        "# 2 정의된 함수 호출\n",
        "hello(\"파이썬\") # 3 정의된 함수 실행\n",
        "\n",
        "\n",
        "# 5\n",
        "cnt += 1\n",
        "print(cnt)"
      ],
      "metadata": {
        "id": "ulakLbcvVXut"
      },
      "execution_count": null,
      "outputs": []
    },
    {
      "cell_type": "code",
      "source": [
        "# 함수 정의\n",
        "def power(num1, num2):\n",
        "    res = num1 ** num2\n",
        "    return res          # 4. 함수 코드 블럭 종료\n",
        "\n",
        "# 1\n",
        "cnt = 1\n",
        "print(cnt)\n",
        "\n",
        "# 2 정의된 함수 호출\n",
        "cal = power(3, 4) # 3 정의된 함수 실행\n",
        "print(cal)\n",
        "\n",
        "# 5\n",
        "cnt += 1\n",
        "print(cnt)"
      ],
      "metadata": {
        "colab": {
          "base_uri": "https://localhost:8080/"
        },
        "id": "p-aoY3vxWVqO",
        "outputId": "9ba6bfa0-40cf-4d39-d1f8-d1cf91c5014d"
      },
      "execution_count": 39,
      "outputs": [
        {
          "output_type": "stream",
          "name": "stdout",
          "text": [
            "1\n",
            "81\n",
            "2\n"
          ]
        }
      ]
    },
    {
      "cell_type": "code",
      "source": [
        "# 함수 안에서 선얺나 변수의 효력 범위\n",
        "# 전역변수는 쓰면 안 됨(메모리 구조를 완벽히 알고 쓸 것), 매개변수로 쓸 것\n",
        "a = 1\n",
        "def vartest(a):\n",
        "    a = a + 1\n",
        "    return a\n",
        "# 함수 내의 a와 함수 밖의 a가 다름(같은 a가 아님)\n",
        "vartest(a)\n",
        "print(a)"
      ],
      "metadata": {
        "colab": {
          "base_uri": "https://localhost:8080/"
        },
        "id": "H8BYA-GRW9aE",
        "outputId": "44fd6d6b-1da0-45d8-a354-b8b5acf52cce"
      },
      "execution_count": 47,
      "outputs": [
        {
          "output_type": "stream",
          "name": "stdout",
          "text": [
            "1\n"
          ]
        }
      ]
    },
    {
      "cell_type": "code",
      "source": [
        "print(vartest(a))\n",
        "print(a)"
      ],
      "metadata": {
        "colab": {
          "base_uri": "https://localhost:8080/"
        },
        "id": "fnuqPwSqXv8s",
        "outputId": "33253363-63a5-4661-f757-cc97e94f6e2d"
      },
      "execution_count": 45,
      "outputs": [
        {
          "output_type": "stream",
          "name": "stdout",
          "text": [
            "2\n",
            "1\n"
          ]
        }
      ]
    },
    {
      "cell_type": "markdown",
      "source": [
        "# 예제 & 과제"
      ],
      "metadata": {
        "id": "DOg1J8LqPXig"
      }
    },
    {
      "cell_type": "markdown",
      "source": [
        "## 예제51 : 함수 이용해서 두 수 중 큰 수 찾기\n",
        "두 수 중 큰 수를 찾아 반환하는 func 함수를 이용해서 두 수 중 큰 수를 찾는다."
      ],
      "metadata": {
        "id": "XatoK-OO-GtO"
      }
    },
    {
      "cell_type": "code",
      "execution_count": 4,
      "metadata": {
        "id": "5GImjoe2-AHC"
      },
      "outputs": [],
      "source": [
        "def func():\n",
        "    a = int(input(\"정수 : \"))\n",
        "    b = int(input(\"정수 : \"))\n",
        "    if (a>b):\n",
        "        r = a\n",
        "    else:\n",
        "        r = b\n",
        "    return r"
      ]
    },
    {
      "cell_type": "code",
      "source": [
        "func()"
      ],
      "metadata": {
        "colab": {
          "base_uri": "https://localhost:8080/"
        },
        "id": "gEgjijZg-9uK",
        "outputId": "179f9e14-c388-42dc-84d9-4ca86c4406fa"
      },
      "execution_count": 7,
      "outputs": [
        {
          "name": "stdout",
          "output_type": "stream",
          "text": [
            "정수 : 7\n",
            "정수 : 3\n"
          ]
        },
        {
          "output_type": "execute_result",
          "data": {
            "text/plain": [
              "7"
            ]
          },
          "metadata": {},
          "execution_count": 7
        }
      ]
    },
    {
      "cell_type": "markdown",
      "source": [
        "## 예제52 : 함수 이용해서 세 수 중 큰 수 찾기\n",
        "세 수 중 큰 수를 찾아 반환하는 func함수를 이용해서 세 수 중 큰 수를 찾는다."
      ],
      "metadata": {
        "id": "yxr-Ryq6_Ezf"
      }
    },
    {
      "cell_type": "code",
      "source": [
        "def func():\n",
        "    a = int(input(\"정수 : \"))\n",
        "    b = int(input(\"정수 : \"))\n",
        "    c = int(input(\"정수 : \"))\n",
        "    if (a>=b):\n",
        "        r = a\n",
        "    elif (a<b):\n",
        "        r = b\n",
        "    elif (r<c):\n",
        "        r = c\n",
        "    return r"
      ],
      "metadata": {
        "id": "pbO70TUh-_8i"
      },
      "execution_count": 10,
      "outputs": []
    },
    {
      "cell_type": "code",
      "source": [
        "func()"
      ],
      "metadata": {
        "colab": {
          "base_uri": "https://localhost:8080/"
        },
        "id": "U-0GU95r_uO3",
        "outputId": "dbc49e0f-a777-48f1-9af8-7285fdc9c9c7"
      },
      "execution_count": 11,
      "outputs": [
        {
          "name": "stdout",
          "output_type": "stream",
          "text": [
            "정수 : 4\n",
            "정수 : 7\n",
            "정수 : 5\n"
          ]
        },
        {
          "output_type": "execute_result",
          "data": {
            "text/plain": [
              "7"
            ]
          },
          "metadata": {},
          "execution_count": 11
        }
      ]
    },
    {
      "cell_type": "markdown",
      "source": [
        "## 예제53 : 함수 이용해서 1부터 10까지의 약수 구하기\n",
        "임의의 수에 대한 약수 구하는 func 함수를 이용해서 1부터 10까지의 수에 대한 약수를 구한다."
      ],
      "metadata": {
        "id": "e4SRNPu9A1bO"
      }
    },
    {
      "cell_type": "code",
      "source": [
        "def func():\n",
        "    num = int(input(\"어디까지의 약수를 구하고 싶나요 >> \"))\n",
        "    for i in range(1,num+1):\n",
        "        print(f\"{i} :\", end=' ')\n",
        "        for j in range(1,num+1):\n",
        "            if (i%j==0):\n",
        "                print(f\"{j}\", end=' ')\n",
        "        print()"
      ],
      "metadata": {
        "id": "hf3PDRHV_wDS"
      },
      "execution_count": 77,
      "outputs": []
    },
    {
      "cell_type": "code",
      "source": [
        "func()"
      ],
      "metadata": {
        "colab": {
          "base_uri": "https://localhost:8080/"
        },
        "id": "qMjtQmYfDHut",
        "outputId": "ba6cf24d-938b-4c02-8091-d71b5d622bba"
      },
      "execution_count": 78,
      "outputs": [
        {
          "output_type": "stream",
          "name": "stdout",
          "text": [
            "어디까지의 약수를 구하고 싶나요 >> 12\n",
            "1 : 1 \n",
            "2 : 1 2 \n",
            "3 : 1 3 \n",
            "4 : 1 2 4 \n",
            "5 : 1 5 \n",
            "6 : 1 2 3 6 \n",
            "7 : 1 7 \n",
            "8 : 1 2 4 8 \n",
            "9 : 1 3 9 \n",
            "10 : 1 2 5 10 \n",
            "11 : 1 11 \n",
            "12 : 1 2 3 4 6 12 \n"
          ]
        }
      ]
    },
    {
      "cell_type": "markdown",
      "source": [
        "## 과제35\n",
        "함수를 이용해서 두 수 중 작은 수를 순서도와 파이선 프로그램을 작성하여라."
      ],
      "metadata": {
        "id": "FDdHQedVEWRX"
      }
    },
    {
      "cell_type": "code",
      "source": [
        "def func():\n",
        "    a = int(input(\"정수 : \"))\n",
        "    b = int(input(\"정수 : \"))\n",
        "    if (a<b):\n",
        "        r = a\n",
        "    else:\n",
        "        r = b\n",
        "    return r"
      ],
      "metadata": {
        "id": "HcNfWCBpDI_g"
      },
      "execution_count": 23,
      "outputs": []
    },
    {
      "cell_type": "code",
      "source": [
        "func()"
      ],
      "metadata": {
        "colab": {
          "base_uri": "https://localhost:8080/"
        },
        "id": "KMlTw1RuFkH6",
        "outputId": "03218929-11c0-4b1b-a084-4a03445a3a93"
      },
      "execution_count": 24,
      "outputs": [
        {
          "name": "stdout",
          "output_type": "stream",
          "text": [
            "정수 : 3\n",
            "정수 : 2\n"
          ]
        },
        {
          "output_type": "execute_result",
          "data": {
            "text/plain": [
              "2"
            ]
          },
          "metadata": {},
          "execution_count": 24
        }
      ]
    },
    {
      "cell_type": "markdown",
      "source": [
        "## 과제36\n",
        "소수 판별하는 함수를 이용해서 2부터 10까지의 수에 대해 소수인지 아닌지를 출력하는 순서도와 파이썬 프로그램을 완성하여라."
      ],
      "metadata": {
        "id": "9MMmu2uBFVAo"
      }
    },
    {
      "cell_type": "code",
      "source": [
        "def func():\n",
        "    num = int(input(\"어디까지의 소수를 구하고 싶나요 >> \"))\n",
        "    for i in range(2,num+1):\n",
        "        count = 0\n",
        "        for j in range(1,num+1):\n",
        "            if (i%j==0):\n",
        "                count += 1\n",
        "        if (count==2):\n",
        "            print(f\"{i} : 소수\")\n",
        "        else:\n",
        "            print(f\"{i} : 소수가 아님\")"
      ],
      "metadata": {
        "id": "Pu2GL6eWFi1z"
      },
      "execution_count": 57,
      "outputs": []
    },
    {
      "cell_type": "code",
      "source": [
        "func()"
      ],
      "metadata": {
        "colab": {
          "base_uri": "https://localhost:8080/"
        },
        "id": "1n8304d9af9A",
        "outputId": "25087149-edb9-4a7e-b97a-99ac27f9f59e"
      },
      "execution_count": 58,
      "outputs": [
        {
          "output_type": "stream",
          "name": "stdout",
          "text": [
            "2 : 소수\n",
            "3 : 소수\n",
            "4 : 소수가 아님\n",
            "5 : 소수\n",
            "6 : 소수가 아님\n",
            "7 : 소수\n",
            "8 : 소수가 아님\n",
            "9 : 소수가 아님\n",
            "10 : 소수가 아님\n"
          ]
        }
      ]
    },
    {
      "cell_type": "markdown",
      "source": [
        "## 간단한 프로그램 함수로 구현하기1\n",
        "사용자에게 숫자 2개를 입력받고 사칙연산 기호(+,-,*,/,%,//)를 입력받으면, 그 연산 결과를 출력하라.\n",
        "공백(화이트 스페이스)를 입력받아도 무시되도록 구현하라."
      ],
      "metadata": {
        "id": "mLu9lY9FbeRC"
      }
    },
    {
      "cell_type": "code",
      "source": [
        "def four_arith():\n",
        "    boolean = True\n",
        "    while boolean:\n",
        "        # 1. a,b를 문자로 받아 타입이 숫자일때 넘어가도록\n",
        "        num1 = input(\"숫자1 입력 : \")\n",
        "        num2 = input(\"숫자2 입력 : \")\n",
        "        a = int(num1)\n",
        "        b = int(num2)\n",
        "        # 2. 사칙연산이 6개 일때만 적용되도록 할 것\n",
        "        sign = input(\"사칙연산 기호 입력 : \")\n",
        "        sign_list = [\"+\",\"-\",\"*\", \"/\", \"%\", \"//\"]\n",
        "        if (type(a)==int) and (type(b)==int) and (sign in sign_list):\n",
        "            if (sign==\"+\"):\n",
        "                result = a+b\n",
        "            elif (sign==\"-\"):\n",
        "                result = a-b\n",
        "            elif (sign==\"*\"):\n",
        "                result = a*b\n",
        "            elif (sign==\"/\"):\n",
        "                result = a/b\n",
        "            elif (sign==\"%\"):\n",
        "                result = a%b\n",
        "            elif (sign==\"//\"):\n",
        "                result = a//b\n",
        "            boolean = False\n",
        "        else:\n",
        "            print(\"다시 입력하세요!!!!\")\n",
        "    return result"
      ],
      "metadata": {
        "id": "NBfw-0Kxdcn8"
      },
      "execution_count": 142,
      "outputs": []
    },
    {
      "cell_type": "code",
      "source": [
        "four_arith()"
      ],
      "metadata": {
        "colab": {
          "base_uri": "https://localhost:8080/"
        },
        "id": "WZiwZQ_hfyTf",
        "outputId": "6494fb34-9a85-49dd-934b-334ede81e9b9"
      },
      "execution_count": 143,
      "outputs": [
        {
          "name": "stdout",
          "output_type": "stream",
          "text": [
            "숫자1 입력 : 2\n",
            "숫자2 입력 : 5\n",
            "사칙연산 기호 입력 : -\n"
          ]
        },
        {
          "output_type": "execute_result",
          "data": {
            "text/plain": [
              "-3"
            ]
          },
          "metadata": {},
          "execution_count": 143
        }
      ]
    },
    {
      "cell_type": "code",
      "source": [
        "# 3번에 응용\n",
        "a = input(\"입력할 수 :\")\n",
        "b = a.replace(' ','')\n",
        "print(b)\n",
        "type(a)"
      ],
      "metadata": {
        "colab": {
          "base_uri": "https://localhost:8080/"
        },
        "id": "ExcV-iAZS1X2",
        "outputId": "8768c1f0-06c8-450a-dd8a-d936b2e557b7"
      },
      "execution_count": 132,
      "outputs": [
        {
          "output_type": "stream",
          "name": "stdout",
          "text": [
            "입력할 수 :1 2\n",
            "12\n"
          ]
        },
        {
          "output_type": "execute_result",
          "data": {
            "text/plain": [
              "str"
            ]
          },
          "metadata": {},
          "execution_count": 132
        }
      ]
    },
    {
      "cell_type": "markdown",
      "source": [
        "## 간단한 프로그램 함수로 구현하기2\n",
        "사용자가 사각형의 넓이, 원의 넓이, 삼각형의 넓이, 원의 둘레를 선택하도록 구현하라.\n",
        "그리고 계산에 필요한 값을 입력받고, 그 결과를 출력하는 프로그램을 구현하라.\n"
      ],
      "metadata": {
        "id": "wgscc89gclJN"
      }
    },
    {
      "cell_type": "code",
      "source": [
        "def area():\n",
        "    boolean = True\n",
        "    while boolean:\n",
        "        choice = input(\"다음 중 구하고자 하는 것을 고르시오\\n사각형의 넓이, 원의 넓이, 삼각형의 넓이, 원의 둘레\\n입력 : \")\n",
        "        if (choice==\"사각형의 넓이\"):\n",
        "            width = int(input(\"가로의 길이 입력 : \"))\n",
        "            length = int(input(\"세로의 길이 입력 : \"))\n",
        "            result = width * length\n",
        "            boolean = False\n",
        "        elif (choice==\"원의 넓이\"):\n",
        "            r = int(input(\"반지름 입력 : \"))\n",
        "            result = (r ** 2) * 3.14\n",
        "            boolean = False\n",
        "        elif (choice==\"삼각형의 넓이\"):\n",
        "            base = int(input(\"밑변 입력 : \"))\n",
        "            height = int(input(\"높이 입력 : \"))\n",
        "            result = base * height / 2\n",
        "            boolean = False\n",
        "        elif (choice==\"원의 둘레\"):\n",
        "            r = int(input(\"반지름 입력\"))\n",
        "            result = 2 * 3.14 * r\n",
        "            boolean = False\n",
        "        else:\n",
        "            print(\"다시 입력하세요!!!\")\n",
        "    return result"
      ],
      "metadata": {
        "id": "a8doCj7xhhft"
      },
      "execution_count": 105,
      "outputs": []
    },
    {
      "cell_type": "code",
      "source": [
        "area()"
      ],
      "metadata": {
        "colab": {
          "base_uri": "https://localhost:8080/"
        },
        "id": "MDhKevp-ilCF",
        "outputId": "bb94e46e-7cda-4f4b-e174-fc0bea6fe4ea"
      },
      "execution_count": 106,
      "outputs": [
        {
          "name": "stdout",
          "output_type": "stream",
          "text": [
            "다음 중 구하고자 하는 것을 고르시오\n",
            "사각형의 넓이, 원의 넓이, 삼각형의 넓이, 원의 둘레\n",
            "입력 : 사각형의 넓이\n",
            "가로의 길이 입력 : 4\n",
            "세로의 길이 입력 : 5\n"
          ]
        },
        {
          "output_type": "execute_result",
          "data": {
            "text/plain": [
              "20"
            ]
          },
          "metadata": {},
          "execution_count": 106
        }
      ]
    },
    {
      "cell_type": "markdown",
      "source": [
        "## 간단한 프로그램 함수로 구현하기3\n",
        "사용자가 숫자를 원하는 개수만큼 입력한다.\n",
        "\n",
        "출력 결과는, 가장 큰 수와 가장 작은수, 홀수와 짝수인지, 양수, 0, 음수의 판결 결과를 출력하는 프로그램을 구현하라\n",
        "\n",
        "사용자가 입력하는 숫자와 숫자 사이를 구분하는 방법은 개발자가 선택하세요."
      ],
      "metadata": {
        "id": "GbNUebGaclSm"
      }
    },
    {
      "cell_type": "code",
      "source": [
        "def program3():\n",
        "    a = list(map(int, input(\"띄어쓰기로 입력하고 싶은 만큼의 수를 입력하세요 >> \").split()))\n",
        "    max = a[0]\n",
        "    min = a[0]\n",
        "    even_list = []\n",
        "    odd_list = []\n",
        "    plus_list = []\n",
        "    zero_list = []\n",
        "    minus_list = []\n",
        "    for i in range(len(a)):\n",
        "        # 가장 큰 수와 가장 작은수\n",
        "        if (max<a[i]):\n",
        "            max = a[i]\n",
        "        if (min>a[i]):\n",
        "            min = a[i]\n",
        "        # 홀수,짝수\n",
        "        if (a[i]%2==0):\n",
        "            even_list.append(a[i])\n",
        "        else:\n",
        "            odd_list.append(a[i])\n",
        "        # 양수,0, 음수\n",
        "        if (a[i]>0):\n",
        "            plus_list.append(a[i])\n",
        "        elif (a[i]<0):\n",
        "            minus_list.append(a[i])\n",
        "        else:\n",
        "            zero_list.append(a[i])\n",
        "\n",
        "\n",
        "\n",
        "    print(f\"가장 큰 수 : {max}\\n가장 작은 수 : {min}\\n홀수 : {odd_list}\\n짝수 : {even_list}\\n양수 : {plus_list}\\n0 : {zero_list}\\n음수 : {minus_list}\")\n"
      ],
      "metadata": {
        "id": "glPLrvV_DXKe"
      },
      "execution_count": 144,
      "outputs": []
    },
    {
      "cell_type": "code",
      "source": [
        "program3()"
      ],
      "metadata": {
        "colab": {
          "base_uri": "https://localhost:8080/"
        },
        "id": "Q5vfKSgxaymE",
        "outputId": "c4fa1d80-b66b-4b69-cafc-fe8e64ba2e3a"
      },
      "execution_count": 145,
      "outputs": [
        {
          "output_type": "stream",
          "name": "stdout",
          "text": [
            "띄어쓰기로 입력하고 싶은 만큼의 수를 입력하세요 >>1 2 3 4 5 6 7 100 0 -123\n",
            "가장 큰 수 : 100\n",
            "가장 작은 수 : -123\n",
            "홀수 : [1, 3, 5, 7, -123]\n",
            "짝수 : [2, 4, 6, 100, 0]\n",
            "양수 : [1, 2, 3, 4, 5, 6, 7, 100]\n",
            "0 : [0]\n",
            "음수 : [-123]\n"
          ]
        }
      ]
    },
    {
      "cell_type": "code",
      "source": [
        "a = [3,4,2,5,6]\n",
        "max = a[0]\n",
        "min = a[0]\n",
        "for i in range(len(a)):\n",
        "    if (max<a[i]):\n",
        "        max = a[i]\n",
        "    if (min>a[i]):\n",
        "        min = a[i]\n",
        "print(max)\n",
        "print(min)"
      ],
      "metadata": {
        "colab": {
          "base_uri": "https://localhost:8080/"
        },
        "id": "uW49IwMtMyJx",
        "outputId": "1b1209d6-d6c7-46e5-b410-e968db7f8d9e"
      },
      "execution_count": 119,
      "outputs": [
        {
          "output_type": "stream",
          "name": "stdout",
          "text": [
            "6\n",
            "2\n"
          ]
        }
      ]
    },
    {
      "cell_type": "markdown",
      "source": [],
      "metadata": {
        "id": "gfQFTamjclau"
      }
    },
    {
      "cell_type": "code",
      "source": [
        "for i in range(1,11):\n",
        "    print(f\"{i} : \", end=' ')\n",
        "    for j in range(1,11):\n",
        "        print(f\"{j}\", end=' ')\n",
        "    print()\n",
        "\n",
        "# i가 1일 때 j를 1부터 10까지 나누며 나머지가 0이면 카운트+1\n",
        "# i가 2일 때 j를 1부터 10까지 나누며 나머지가 0이면 카운트+1"
      ],
      "metadata": {
        "colab": {
          "base_uri": "https://localhost:8080/"
        },
        "id": "z-Mgeb7Ji9L1",
        "outputId": "9fe52b66-fd04-4b3c-e442-d20b10ad9944"
      },
      "execution_count": 110,
      "outputs": [
        {
          "output_type": "stream",
          "name": "stdout",
          "text": [
            "1 :  1 2 3 4 5 6 7 8 9 10 \n",
            "2 :  1 2 3 4 5 6 7 8 9 10 \n",
            "3 :  1 2 3 4 5 6 7 8 9 10 \n",
            "4 :  1 2 3 4 5 6 7 8 9 10 \n",
            "5 :  1 2 3 4 5 6 7 8 9 10 \n",
            "6 :  1 2 3 4 5 6 7 8 9 10 \n",
            "7 :  1 2 3 4 5 6 7 8 9 10 \n",
            "8 :  1 2 3 4 5 6 7 8 9 10 \n",
            "9 :  1 2 3 4 5 6 7 8 9 10 \n",
            "10 :  1 2 3 4 5 6 7 8 9 10 \n"
          ]
        }
      ]
    },
    {
      "cell_type": "code",
      "source": [
        "i = 1\n",
        "cnt = 0\n",
        "for j in range(1,11):\n",
        "    if i%j==0:\n",
        "        cnt += 1"
      ],
      "metadata": {
        "id": "xJVfmQ1uF_zu"
      },
      "execution_count": null,
      "outputs": []
    },
    {
      "cell_type": "markdown",
      "source": [
        "## 간단한 프로그램 함수로 구현하기 4\n",
        "\n",
        "세 수를 입력받아, 숫자와 숫자 사이의 수의 합을 사용자가 원하는 의도대로 계산되도록 구현하라.\n",
        "\n",
        "모든 방법은 개발자가 선택하세요.\n",
        "\n"
      ],
      "metadata": {
        "id": "nZhKe2FWaovR"
      }
    },
    {
      "cell_type": "code",
      "source": [],
      "metadata": {
        "id": "FtEGaeCCarxR"
      },
      "execution_count": null,
      "outputs": []
    }
  ]
}