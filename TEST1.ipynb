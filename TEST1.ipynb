{
  "nbformat": 4,
  "nbformat_minor": 0,
  "metadata": {
    "colab": {
      "provenance": [],
      "authorship_tag": "ABX9TyMCpminZnflawIZY17N6NhZ",
      "include_colab_link": true
    },
    "kernelspec": {
      "name": "python3",
      "display_name": "Python 3"
    },
    "language_info": {
      "name": "python"
    }
  },
  "cells": [
    {
      "cell_type": "markdown",
      "metadata": {
        "id": "view-in-github",
        "colab_type": "text"
      },
      "source": [
        "<a href=\"https://colab.research.google.com/github/Yoonseungwook/lms23/blob/main/TEST1.ipynb\" target=\"_parent\"><img src=\"https://colab.research.google.com/assets/colab-badge.svg\" alt=\"Open In Colab\"/></a>"
      ]
    },
    {
      "cell_type": "code",
      "execution_count": null,
      "metadata": {
        "id": "uROVOadKT2_p",
        "colab": {
          "base_uri": "https://localhost:8080/"
        },
        "outputId": "d6a5f8b7-2f38-4217-eb2d-4e6567905a81"
      },
      "outputs": [
        {
          "output_type": "stream",
          "name": "stdout",
          "text": [
            "Hello world!\n"
          ]
        }
      ],
      "source": [
        "print(\"Hello world!\")"
      ]
    },
    {
      "cell_type": "code",
      "source": [
        "a = int(input(\"정수를 입력하시오 : \"))\n",
        "b = int(input(\"정수를 입력하시오 : \"))\n",
        "\n",
        "if a>b:\n",
        "  print(a)\n",
        "elif a<b:\n",
        "  print(b)\n",
        "else:\n",
        "  print(a+b)\n"
      ],
      "metadata": {
        "colab": {
          "base_uri": "https://localhost:8080/"
        },
        "id": "NHk_u4g2ft8k",
        "outputId": "83380c33-c138-49ff-9ed8-963317d865aa"
      },
      "execution_count": null,
      "outputs": [
        {
          "output_type": "stream",
          "name": "stdout",
          "text": [
            "정수를 입력하시오 : 3\n",
            "정수를 입력하시오 : 3\n",
            "6\n"
          ]
        }
      ]
    },
    {
      "cell_type": "markdown",
      "source": [
        "# 예제1"
      ],
      "metadata": {
        "id": "isCJx12qoiEc"
      }
    },
    {
      "cell_type": "code",
      "source": [
        "class FourCal:\n",
        "  def __init__(self, first, second):\n",
        "    self.first = first\n",
        "    self.second = second\n",
        "  def setdata(self, first, second):\n",
        "    self.first = first\n",
        "    self.second = second\n",
        "  def add(self):\n",
        "    result = self.first + self.second\n",
        "    return result\n",
        "  def mul(self):\n",
        "    result = self.first * self.second\n",
        "    return result\n",
        "  def sub(self):\n",
        "    result = self.first - self.second\n",
        "    return result\n",
        "  def div(self): \n",
        "    result = self.first / self.second\n",
        "    return result\n",
        "\n",
        "# a = FourCal()\n",
        "# b = FourCal()\n",
        "a = FourCal(3,8)\n",
        "print(a.first)\n",
        "print(a.second)\n",
        "print(a.add())\n",
        "print(a.mul())"
      ],
      "metadata": {
        "colab": {
          "base_uri": "https://localhost:8080/"
        },
        "id": "IwAJTlbqglCa",
        "outputId": "b79bad22-06e5-4ea2-b7ae-c371fdcf40da"
      },
      "execution_count": null,
      "outputs": [
        {
          "output_type": "stream",
          "name": "stdout",
          "text": [
            "3\n",
            "8\n",
            "11\n",
            "24\n"
          ]
        }
      ]
    },
    {
      "cell_type": "markdown",
      "source": [
        "# Python 기초"
      ],
      "metadata": {
        "id": "wANPsiGtpDiV"
      }
    },
    {
      "cell_type": "markdown",
      "source": [
        "## 변수란?\n",
        "- 어떠한 대응 관계로 변화하는 수(변할 수 있는 값)"
      ],
      "metadata": {
        "id": "ymCfCsm2o87s"
      }
    },
    {
      "cell_type": "code",
      "source": [],
      "metadata": {
        "id": "MnU3KaPWnFKE"
      },
      "execution_count": null,
      "outputs": []
    },
    {
      "cell_type": "markdown",
      "source": [
        "## 리스트?\n",
        "- 숫자 또는 문자의 모음을 표현하고 싶을 때 대괄호([])로 감싸주고 각 요소의 값을 쉼표(,)로 구분해 표현"
      ],
      "metadata": {
        "id": "63CeGJoryDl4"
      }
    },
    {
      "cell_type": "markdown",
      "source": [
        "### 인덱싱\n",
        "- 리스트의 요소 값을 불러오는 것"
      ],
      "metadata": {
        "id": "rPEtibRoyYIj"
      }
    },
    {
      "cell_type": "code",
      "source": [
        "a = [1,2,3]\n",
        "a"
      ],
      "metadata": {
        "id": "Zdq81tiSmyyx",
        "colab": {
          "base_uri": "https://localhost:8080/"
        },
        "outputId": "5d4426ef-90ec-4303-9214-a4b948048f87"
      },
      "execution_count": null,
      "outputs": [
        {
          "output_type": "execute_result",
          "data": {
            "text/plain": [
              "[1, 2, 3]"
            ]
          },
          "metadata": {},
          "execution_count": 10
        }
      ]
    },
    {
      "cell_type": "code",
      "source": [
        "a[0]"
      ],
      "metadata": {
        "id": "MyuXOAIdlzKw",
        "colab": {
          "base_uri": "https://localhost:8080/"
        },
        "outputId": "fe8fdec6-a1a4-4269-c1ce-832f61884fe1"
      },
      "execution_count": null,
      "outputs": [
        {
          "output_type": "execute_result",
          "data": {
            "text/plain": [
              "1"
            ]
          },
          "metadata": {},
          "execution_count": 11
        }
      ]
    },
    {
      "cell_type": "code",
      "source": [
        "a[0]+ a[2]"
      ],
      "metadata": {
        "id": "dtIqgq8kgb8U",
        "colab": {
          "base_uri": "https://localhost:8080/"
        },
        "outputId": "004b7fe3-26fd-4b38-c617-f3ab207d5831"
      },
      "execution_count": null,
      "outputs": [
        {
          "output_type": "execute_result",
          "data": {
            "text/plain": [
              "4"
            ]
          },
          "metadata": {},
          "execution_count": 12
        }
      ]
    },
    {
      "cell_type": "code",
      "source": [
        "a[-1]"
      ],
      "metadata": {
        "colab": {
          "base_uri": "https://localhost:8080/"
        },
        "id": "KWqqMIH8yj2T",
        "outputId": "35913251-ecc2-42d6-f013-1d5b328c04e2"
      },
      "execution_count": null,
      "outputs": [
        {
          "output_type": "execute_result",
          "data": {
            "text/plain": [
              "3"
            ]
          },
          "metadata": {},
          "execution_count": 13
        }
      ]
    },
    {
      "cell_type": "markdown",
      "source": [
        "#### 삼중 인덱싱"
      ],
      "metadata": {
        "id": "8yS8VCsgyzCr"
      }
    },
    {
      "cell_type": "code",
      "source": [
        "a = [1,2, ['a', 'b', ['Life', 'is']]]\n",
        "\n",
        "a[2][2][0]"
      ],
      "metadata": {
        "colab": {
          "base_uri": "https://localhost:8080/",
          "height": 35
        },
        "id": "Wxk7R9eIyvVn",
        "outputId": "8dcaad39-7490-4e8d-b43d-735c386938ef"
      },
      "execution_count": null,
      "outputs": [
        {
          "output_type": "execute_result",
          "data": {
            "text/plain": [
              "'Life'"
            ],
            "application/vnd.google.colaboratory.intrinsic+json": {
              "type": "string"
            }
          },
          "metadata": {},
          "execution_count": 14
        }
      ]
    },
    {
      "cell_type": "markdown",
      "source": [
        "### 슬라이싱\n",
        "- 리스트의 요소를 나누어 표현(?)하는 방식"
      ],
      "metadata": {
        "id": "IlyOF1A-zMfx"
      }
    },
    {
      "cell_type": "code",
      "source": [
        "a = [1,2,3,4,5]\n",
        "a[0:2]"
      ],
      "metadata": {
        "colab": {
          "base_uri": "https://localhost:8080/"
        },
        "id": "7sQAHAfVzCp8",
        "outputId": "6d69f3c2-a9f3-4ca0-d572-f181b2c4e147"
      },
      "execution_count": null,
      "outputs": [
        {
          "output_type": "execute_result",
          "data": {
            "text/plain": [
              "[1, 2]"
            ]
          },
          "metadata": {},
          "execution_count": 15
        }
      ]
    },
    {
      "cell_type": "markdown",
      "source": [
        "#### 중첩된 리스트에서 슬라이싱"
      ],
      "metadata": {
        "id": "Juu4gGTJzd9j"
      }
    },
    {
      "cell_type": "code",
      "source": [
        "a = [1, 2, 3, ['a', 'b', 'c'], 4, 5]\n",
        "a[2:5]"
      ],
      "metadata": {
        "colab": {
          "base_uri": "https://localhost:8080/"
        },
        "id": "00eo5JMmzZj7",
        "outputId": "c8248150-b449-42a4-a80d-aa9f2955520b"
      },
      "execution_count": null,
      "outputs": [
        {
          "output_type": "execute_result",
          "data": {
            "text/plain": [
              "[3, ['a', 'b', 'c'], 4]"
            ]
          },
          "metadata": {},
          "execution_count": 16
        }
      ]
    },
    {
      "cell_type": "markdown",
      "source": [
        "### 리스트 연산"
      ],
      "metadata": {
        "id": "Bw79w3OOzuNi"
      }
    },
    {
      "cell_type": "code",
      "source": [
        "a = [1, 2, 3]\n",
        "b = [4, 5, 6]\n",
        "# add\n",
        "print(a+b)\n",
        "# mul\n",
        "print(a*3)\n",
        "# length\n",
        "len(a)"
      ],
      "metadata": {
        "colab": {
          "base_uri": "https://localhost:8080/"
        },
        "id": "FopBq1vLzqJz",
        "outputId": "5498fd5f-4d73-4499-bd2c-978d8a2920ed"
      },
      "execution_count": null,
      "outputs": [
        {
          "output_type": "stream",
          "name": "stdout",
          "text": [
            "[1, 2, 3, 4, 5, 6]\n",
            "[1, 2, 3, 1, 2, 3, 1, 2, 3]\n"
          ]
        },
        {
          "output_type": "execute_result",
          "data": {
            "text/plain": [
              "3"
            ]
          },
          "metadata": {},
          "execution_count": 22
        }
      ]
    },
    {
      "cell_type": "code",
      "source": [
        "# 리스트 요소 추가\n",
        "a.append([4,5])\n",
        "\n",
        "# 리스트 정렬\n",
        "c = [1,4,3,2]\n",
        "c.sort()\n",
        "\n",
        "# 리스트 뒤집기\n",
        "d = ['a', 'c', 'b']\n",
        "d.reverse()\n",
        "d\n",
        "\n",
        "# 위치 반환\n",
        "e = [1,2,3]\n",
        "print(e.index(3))\n",
        "\n",
        "print(a)\n",
        "print(b)\n",
        "print(c)\n",
        "print(d)\n"
      ],
      "metadata": {
        "colab": {
          "base_uri": "https://localhost:8080/"
        },
        "id": "3IL1OM7V0LWl",
        "outputId": "786bca73-3377-461d-cd89-f92af4306bb5"
      },
      "execution_count": null,
      "outputs": [
        {
          "output_type": "stream",
          "name": "stdout",
          "text": [
            "2\n",
            "[1, 2, 3, [4, 5], [4, 5]]\n",
            "[4, 5, 6]\n",
            "[1, 2, 3, 4]\n",
            "['b', 'c', 'a']\n"
          ]
        }
      ]
    },
    {
      "cell_type": "markdown",
      "source": [
        "## 출력"
      ],
      "metadata": {
        "id": "8pEAu0FH8MCI"
      }
    },
    {
      "cell_type": "code",
      "source": [
        "print(\"foo\", 42, \"bar\")\n",
        "\n",
        "print(\"foo\", 42, \"bar\", sep=\"/\")\n",
        "\n",
        "print(\"foo\", 42, \"bar\", sep=\"...\")\n",
        "\n",
        "print(\"foo\", 42, \"bar\", sep=\"\")"
      ],
      "metadata": {
        "id": "p8V8Ixwa1b-s",
        "colab": {
          "base_uri": "https://localhost:8080/"
        },
        "outputId": "f7342b9c-1708-4b60-c5df-bf78e4fecd8b"
      },
      "execution_count": 1,
      "outputs": [
        {
          "output_type": "stream",
          "name": "stdout",
          "text": [
            "foo 42 bar\n",
            "foo/42/bar\n",
            "foo...42...bar\n",
            "foo42bar\n"
          ]
        }
      ]
    },
    {
      "cell_type": "code",
      "source": [
        "print(\"foo\", end=\"/\")\n",
        "print(42, end=\"/\")\n",
        "print(\"bar\")"
      ],
      "metadata": {
        "colab": {
          "base_uri": "https://localhost:8080/"
        },
        "id": "COr5SwwNzfsO",
        "outputId": "c4afafee-e8ec-435d-a514-3b91542078f3"
      },
      "execution_count": 2,
      "outputs": [
        {
          "output_type": "stream",
          "name": "stdout",
          "text": [
            "foo/42/bar\n"
          ]
        }
      ]
    },
    {
      "cell_type": "markdown",
      "source": [
        "### 이스케이프 문자 이해\n",
        "- 문자 또는 숫자랑 같이 따옴표 안에 표시\n",
        "- \\n : 줄 바꾸기\n",
        "- \\t : 탭\n",
        "- \\enter : 줄 계속\n",
        "- \\\\ : \\ 기호 표시\n",
        "- \\' 또는 \\\" : ' 기호 또는 \" 기호 "
      ],
      "metadata": {
        "id": "nImhGxJC_a2o"
      }
    },
    {
      "cell_type": "markdown",
      "source": [
        "### 연습문제"
      ],
      "metadata": {
        "id": "zT50lVd68gGG"
      }
    },
    {
      "cell_type": "code",
      "source": [
        "# 연습문제1\n",
        "# 변수 num에 65를 대입하고 출력하세요\n",
        "\n",
        "num = 65\n",
        "print(num)"
      ],
      "metadata": {
        "colab": {
          "base_uri": "https://localhost:8080/"
        },
        "id": "IXgQMnAk0KvX",
        "outputId": "cfaad232-745a-4570-bf71-d5d92ed0d170"
      },
      "execution_count": 3,
      "outputs": [
        {
          "output_type": "stream",
          "name": "stdout",
          "text": [
            "65\n"
          ]
        }
      ]
    },
    {
      "cell_type": "code",
      "source": [
        "# 연습문제2\n",
        "# 변수 num을 copy_num1, copy_num2에 대입하세요\n",
        "copy_num1 = num\n",
        "copy_num2 = num"
      ],
      "metadata": {
        "id": "hobqB5aH0LFr"
      },
      "execution_count": 4,
      "outputs": []
    },
    {
      "cell_type": "code",
      "source": [
        "# 연습문제3\n",
        "# 변수 num에 정수 2를 더하고, 변수 res 할당하세요, 그리고 print() 함수로 res 변수의 값을 출력하세요\n",
        "res = num + 2\n",
        "print(res)"
      ],
      "metadata": {
        "colab": {
          "base_uri": "https://localhost:8080/"
        },
        "id": "zbrbDkk00LOp",
        "outputId": "e94b2c36-d0f8-41f1-a9e6-fa009dfaae7a"
      },
      "execution_count": 5,
      "outputs": [
        {
          "output_type": "stream",
          "name": "stdout",
          "text": [
            "67\n"
          ]
        }
      ]
    },
    {
      "cell_type": "code",
      "source": [
        "# 연습문제4\n",
        "# 65, res, sum 을 출력하세요\n",
        "sum = num + res\n",
        "print(65)\n",
        "print(res)\n",
        "print(sum)"
      ],
      "metadata": {
        "colab": {
          "base_uri": "https://localhost:8080/"
        },
        "id": "O3x0tYaV0LZK",
        "outputId": "3a4dbe1a-e600-4a5a-fa68-2451faa8ff31"
      },
      "execution_count": 7,
      "outputs": [
        {
          "output_type": "stream",
          "name": "stdout",
          "text": [
            "65\n",
            "67\n",
            "132\n"
          ]
        }
      ]
    },
    {
      "cell_type": "code",
      "source": [
        "# 연습문제5\n",
        "# num, res, sum 변수를 print() 함수 1개에 한번에 출력하세요\n",
        "print(num, res, sum)"
      ],
      "metadata": {
        "colab": {
          "base_uri": "https://localhost:8080/"
        },
        "id": "cy1gzPOF1bVa",
        "outputId": "924a8ef8-a66b-41b1-ff3c-0e557dd1c7bb"
      },
      "execution_count": 8,
      "outputs": [
        {
          "output_type": "stream",
          "name": "stdout",
          "text": [
            "65 67 132\n"
          ]
        }
      ]
    },
    {
      "cell_type": "code",
      "source": [
        "# 연습문제6\n",
        "print('Life', 'is', 'short', 'art', 'long', 'oppertunity', 'fleeting')\n",
        "print('experience', 'treacherous', 'judgement', 'difficult')"
      ],
      "metadata": {
        "colab": {
          "base_uri": "https://localhost:8080/"
        },
        "id": "I539FVn12kML",
        "outputId": "43e2a8a4-7f8f-4d86-fc65-9c9db30aae40"
      },
      "execution_count": 15,
      "outputs": [
        {
          "output_type": "stream",
          "name": "stdout",
          "text": [
            "Life is short art long oppertunity fleeting\n",
            "experience treacherous judgement difficult\n"
          ]
        }
      ]
    },
    {
      "cell_type": "code",
      "source": [
        "# 6.1 [공백 제거]된 상태로 출력하세요\n",
        "print('Life', 'is', 'short', 'art', 'long', 'oppertunity', 'fleeting', sep=\"\")\n",
        "print('experience', 'treacherous', 'judgement', 'difficult', sep=\"\")"
      ],
      "metadata": {
        "colab": {
          "base_uri": "https://localhost:8080/"
        },
        "id": "QM6fNFU53y-L",
        "outputId": "ff1bbfd5-49d3-489a-c02b-c591a81b6e49"
      },
      "execution_count": 16,
      "outputs": [
        {
          "output_type": "stream",
          "name": "stdout",
          "text": [
            "Lifeisshortartlongoppertunityfleeting\n",
            "experiencetreacherousjudgementdifficult\n"
          ]
        }
      ]
    },
    {
      "cell_type": "code",
      "source": [
        "# 6.2 [줄바꿈 없이] 한 줄로 출력하세요\n",
        "print('Life', 'is', 'short', 'art', 'long', 'oppertunity', 'fleeting', end=\"\")\n",
        "print('experience', 'treacherous', 'judgement', 'difficult', end=\"\")"
      ],
      "metadata": {
        "colab": {
          "base_uri": "https://localhost:8080/"
        },
        "id": "jwVxeKHh37Kn",
        "outputId": "dd2c03bb-8c07-4fc1-99f8-6f38cbde5a7a"
      },
      "execution_count": 12,
      "outputs": [
        {
          "output_type": "stream",
          "name": "stdout",
          "text": [
            "Life is short art long oppertunity fleetingexperience treacherous judgement difficult"
          ]
        }
      ]
    },
    {
      "cell_type": "code",
      "source": [
        "# 6.3 문장에서 \\n을 사용해, 총 5줄로 출력하세요\n",
        "print('Life', 'is', 'short', 'art', 'long', 'oppertunity', 'fleeting')\n",
        "print('experience\\n', 'treacherous\\n', 'judgement\\n', 'difficult', sep=\"\")"
      ],
      "metadata": {
        "colab": {
          "base_uri": "https://localhost:8080/"
        },
        "id": "jP2xP6sy37OX",
        "outputId": "f9048ec2-41bc-473c-a5a4-dfe46b29d920"
      },
      "execution_count": 19,
      "outputs": [
        {
          "output_type": "stream",
          "name": "stdout",
          "text": [
            "Life is short art long oppertunity fleeting\n",
            "experience\n",
            "treacherous\n",
            "judgement\n",
            "difficult\n"
          ]
        }
      ]
    },
    {
      "cell_type": "markdown",
      "source": [
        "## 입력\n",
        "- input() 함수 사용"
      ],
      "metadata": {
        "id": "V97ljWn78VDA"
      }
    },
    {
      "cell_type": "code",
      "source": [
        "# input() 함수 사용하기\n",
        "\n",
        "user_input = input()\n",
        "\n",
        "print(\"입력 내용: \", user_input)"
      ],
      "metadata": {
        "colab": {
          "base_uri": "https://localhost:8080/"
        },
        "id": "SJjz2LznA542",
        "outputId": "ff48537f-91eb-4e02-923b-b7ef5f5b21a3"
      },
      "execution_count": 27,
      "outputs": [
        {
          "output_type": "stream",
          "name": "stdout",
          "text": [
            "hello\n",
            "입력 내용:  hello\n"
          ]
        }
      ]
    },
    {
      "cell_type": "code",
      "source": [
        "number = int(input(\"Enter a number: \"))\n",
        "\n",
        "print(number + 100)"
      ],
      "metadata": {
        "colab": {
          "base_uri": "https://localhost:8080/"
        },
        "id": "7mSmdCipCn7G",
        "outputId": "ae98e88c-7974-4aa1-914b-7c8c1f0189d3"
      },
      "execution_count": 38,
      "outputs": [
        {
          "output_type": "stream",
          "name": "stdout",
          "text": [
            "Enter a number: 123\n",
            "223\n"
          ]
        }
      ]
    },
    {
      "cell_type": "markdown",
      "source": [
        "### 연습문제\n"
      ],
      "metadata": {
        "id": "lev1hjRu8iEH"
      }
    },
    {
      "cell_type": "code",
      "source": [
        "# 문제1\n",
        "# phone_no 변수에 핸드폰 번호를 입력받아 출력하세요.\n",
        "\n",
        "# tip\n",
        "# fname = input(\"핸드폰 번호를 입력 하세요>> \")\n",
        "\n",
        "phone_no = input(\"핸드폰 번호를 입력하세요>> \")\n",
        "print(\"핸드폰 번호:\", phone_no)"
      ],
      "metadata": {
        "colab": {
          "base_uri": "https://localhost:8080/"
        },
        "id": "KQfEnmi44FjR",
        "outputId": "171347de-fa59-4691-b911-a4da0651ef95"
      },
      "execution_count": 28,
      "outputs": [
        {
          "output_type": "stream",
          "name": "stdout",
          "text": [
            "핸드폰 번호를 입력하세요>> 01012345678\n",
            "핸드폰 번호: 01012345678\n"
          ]
        }
      ]
    },
    {
      "cell_type": "code",
      "source": [
        "name = input(\"이름을 입력해주세요. >> \")\n",
        "\n",
        "print(\"이름:\", name)"
      ],
      "metadata": {
        "colab": {
          "base_uri": "https://localhost:8080/"
        },
        "id": "shV3YHOQBTbG",
        "outputId": "9a9ba24d-f7a9-4d46-835a-ca82254ae533"
      },
      "execution_count": 33,
      "outputs": [
        {
          "output_type": "stream",
          "name": "stdout",
          "text": [
            "이름을 입력해주세요. >> 홍길동\n",
            "이름: 홍길동\n"
          ]
        }
      ]
    },
    {
      "cell_type": "code",
      "source": [
        "# 문제2\n",
        "# 사람의 특징을 변수 10개로 입력받아 출력하세요\n",
        "\n",
        "# tip\n",
        "# 이름, 성, 생일, 고향, 전화번호, 혈액형, 키, 몸무게, 국적, mbti, \n",
        "# 배고픔 상태, 현재 기분, 최대 체력, 최대 의지, 필요 집중력, 열정 정도\n",
        "# fname = input(\"이름을 입력하세요>> \")\n",
        "\n",
        "first_name = input(\"이름을 입력하세요>> \")\n",
        "last_name = input(\"성을 입력하세요>> \")\n",
        "birth = input(\"생일을 입력하세요>> \")\n",
        "hometown = input(\"고향을 입력하세요>> \")\n",
        "phone = input(\"전화번호를 입력하세요>> \")\n",
        "blood_type = input(\"혈액형을 입력하세요>> \")\n",
        "height = input(\"키를 입력하세요>> \")\n",
        "weight = input(\"몸무게를 입력하세요>> \")\n",
        "nationality = input(\"국적을 입력하세요>> \")\n",
        "mbti = input(\"mbti를 입력하세요>> \")\n",
        "\n",
        "print(\"이름:\", first_name)\n",
        "print(\"성:\", last_name)\n",
        "print(\"생일:\", birth)\n",
        "print(\"고향:\", hometown)\n",
        "print(\"전화번호:\", phone)\n",
        "print(\"혈액형:\", blood_type)\n",
        "print(\"키:\", height)\n",
        "print(\"몸무게:\", weight)\n",
        "print(\"국적:\", nationality)\n",
        "print(\"mbti:\", mbti)"
      ],
      "metadata": {
        "colab": {
          "base_uri": "https://localhost:8080/"
        },
        "id": "xFjgJtJw8uKC",
        "outputId": "5bea46ea-c8bf-4546-b703-d15e0b0c0304"
      },
      "execution_count": 35,
      "outputs": [
        {
          "output_type": "stream",
          "name": "stdout",
          "text": [
            "이름을 입력하세요>> 길동\n",
            "성을 입력하세요>> 홍\n",
            "생일을 입력하세요>> 230602\n",
            "고향을 입력하세요>> 광주\n",
            "전화번호를 입력하세요>> 01012345678\n",
            "혈액형을 입력하세요>> A\n",
            "키를 입력하세요>> 170\n",
            "몸무게를 입력하세요>> 70\n",
            "국적을 입력하세요>> 대한민국\n",
            "mbti를 입력하세요>> ISFP\n",
            "이름: 길동\n",
            "성: 홍\n",
            "생일: 230602\n",
            "고향: 광주\n",
            "전화번호: 01012345678\n",
            "혈액형: A\n",
            "키: 170\n",
            "몸무게: 70\n",
            "국적: 대한민국\n",
            "mbti: ISFP\n"
          ]
        }
      ]
    },
    {
      "cell_type": "code",
      "source": [
        "# 문제3\n",
        "# 프로그래밍은 \"현실의 어떤 대상\"을 소스 코드로 구현하는 것이다.\n",
        "# 주위 사물의 속성을 변수 10개로 만들어 입력받아 출력하세요.\n",
        "\n",
        "# tip\n",
        "# 책상 속성: 크기, 무게, 재질, 가격, 색 등\n",
        "\n",
        "width = input(\"책상의 가로길이를 입력하세요>> \")\n",
        "length = input(\"책상의 세로길이를 입력하세요>> \")\n",
        "height = input(\"책상의 높이를 입력하세요>> \")\n",
        "weight = input(\"책상의 무게를 입력하세요>> \")\n",
        "plate_material = input(\"책상의 상판재질를 입력하세요>> \")\n",
        "leg_material = input(\"책상의 다리재질을 입력하세요>> \")\n",
        "price = input(\"책상의 가격을 입력하세요>> \")\n",
        "plate_color = input(\"책상의 상판 색깔을 입력하세요>> \")\n",
        "leg_color = input(\"책상의 다리 색깔을 입력하세요>> \")\n",
        "number_drawers = input(\"책상의 서랍단수를 입력하세요>> \")\n",
        "\n",
        "print(\"가로 길이 :\", width)\n",
        "print(\"세로 길이 :\", length)\n",
        "print(\"높이 :\", height)\n",
        "print(\"무게 :\", weight)\n",
        "print(\"상판 재질 :\", plate_material)\n",
        "print(\"다리 재질 :\", leg_material)\n",
        "print(\"가격 :\", price)\n",
        "print(\"상판 색깔 :\", plate_color)\n",
        "print(\"다리 색깔 :\", leg_color)\n",
        "print(\"서랍단수 :\", number_drawers)\n",
        "\n",
        "\n"
      ],
      "metadata": {
        "colab": {
          "base_uri": "https://localhost:8080/"
        },
        "id": "lWXUjUa48-b2",
        "outputId": "fa2989db-9a16-4735-dfed-5e1251c2691a"
      },
      "execution_count": 39,
      "outputs": [
        {
          "output_type": "stream",
          "name": "stdout",
          "text": [
            "책상의 가로길이를 입력하세요>> 100\n",
            "책상의 세로길이를 입력하세요>> 60\n",
            "책상의 높이를 입력하세요>> 120\n",
            "책상의 무게를 입력하세요>> 10\n",
            "책상의 상판재질를 입력하세요>> 플라스틱\n",
            "책상의 다리재질을 입력하세요>> SUS304\n",
            "책상의 가격을 입력하세요>> 100000\n",
            "책상의 상판 색깔을 입력하세요>> Green\n",
            "책상의 다리 색깔을 입력하세요>> Grey\n",
            "책상의 서랍단수를 입력하세요>> 3\n",
            "가로 길이 : 100\n",
            "세로 길이 : 60\n",
            "높이 : 120\n",
            "무게 : 10\n",
            "상판 재질 : 플라스틱\n",
            "다리 재질 : SUS304\n",
            "가격 : 100000\n",
            "상판 색깔 : Green\n",
            "다리 색깔 : Grey\n",
            "서랍단수 : 3\n"
          ]
        }
      ]
    },
    {
      "cell_type": "code",
      "source": [],
      "metadata": {
        "id": "Brl0kVfzG85D"
      },
      "execution_count": null,
      "outputs": []
    }
  ]
}