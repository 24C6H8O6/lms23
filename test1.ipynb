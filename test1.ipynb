{
  "nbformat": 4,
  "nbformat_minor": 0,
  "metadata": {
    "colab": {
      "provenance": [],
      "authorship_tag": "ABX9TyOoRZDJhuZrBYpyYBcwDKYK",
      "include_colab_link": true
    },
    "kernelspec": {
      "name": "python3",
      "display_name": "Python 3"
    },
    "language_info": {
      "name": "python"
    }
  },
  "cells": [
    {
      "cell_type": "markdown",
      "metadata": {
        "id": "view-in-github",
        "colab_type": "text"
      },
      "source": [
        "<a href=\"https://colab.research.google.com/github/Yoonseungwook/lms23/blob/main/test1.ipynb\" target=\"_parent\"><img src=\"https://colab.research.google.com/assets/colab-badge.svg\" alt=\"Open In Colab\"/></a>"
      ]
    },
    {
      "cell_type": "code",
      "execution_count": null,
      "metadata": {
        "id": "uROVOadKT2_p",
        "colab": {
          "base_uri": "https://localhost:8080/"
        },
        "outputId": "d6a5f8b7-2f38-4217-eb2d-4e6567905a81"
      },
      "outputs": [
        {
          "output_type": "stream",
          "name": "stdout",
          "text": [
            "Hello world!\n"
          ]
        }
      ],
      "source": [
        "print(\"Hello world!\")"
      ]
    },
    {
      "cell_type": "code",
      "source": [
        "a = int(input(\"정수를 입력하시오 : \"))\n",
        "b = int(input(\"정수를 입력하시오 : \"))\n",
        "\n",
        "if a>b:\n",
        "  print(a)\n",
        "elif a<b:\n",
        "  print(b)\n",
        "else:\n",
        "  print(a+b)\n"
      ],
      "metadata": {
        "colab": {
          "base_uri": "https://localhost:8080/"
        },
        "id": "NHk_u4g2ft8k",
        "outputId": "83380c33-c138-49ff-9ed8-963317d865aa"
      },
      "execution_count": null,
      "outputs": [
        {
          "output_type": "stream",
          "name": "stdout",
          "text": [
            "정수를 입력하시오 : 3\n",
            "정수를 입력하시오 : 3\n",
            "6\n"
          ]
        }
      ]
    },
    {
      "cell_type": "markdown",
      "source": [
        "# 예제1"
      ],
      "metadata": {
        "id": "isCJx12qoiEc"
      }
    },
    {
      "cell_type": "code",
      "source": [
        "class FourCal:\n",
        "  def __init__(self, first, second):\n",
        "    self.first = first\n",
        "    self.second = second\n",
        "  def setdata(self, first, second):\n",
        "    self.first = first\n",
        "    self.second = second\n",
        "  def add(self):\n",
        "    result = self.first + self.second\n",
        "    return result\n",
        "  def mul(self):\n",
        "    result = self.first * self.second\n",
        "    return result\n",
        "  def sub(self):\n",
        "    result = self.first - self.second\n",
        "    return result\n",
        "  def div(self): \n",
        "    result = self.first / self.second\n",
        "    return result\n",
        "\n",
        "# a = FourCal()\n",
        "# b = FourCal()\n",
        "a = FourCal(3,8)\n",
        "print(a.first)\n",
        "print(a.second)\n",
        "print(a.add())\n",
        "print(a.mul())"
      ],
      "metadata": {
        "colab": {
          "base_uri": "https://localhost:8080/"
        },
        "id": "IwAJTlbqglCa",
        "outputId": "b79bad22-06e5-4ea2-b7ae-c371fdcf40da"
      },
      "execution_count": null,
      "outputs": [
        {
          "output_type": "stream",
          "name": "stdout",
          "text": [
            "3\n",
            "8\n",
            "11\n",
            "24\n"
          ]
        }
      ]
    },
    {
      "cell_type": "markdown",
      "source": [
        "# Python 기초"
      ],
      "metadata": {
        "id": "wANPsiGtpDiV"
      }
    },
    {
      "cell_type": "markdown",
      "source": [
        "## 변수란?\n",
        "- 어떠한 대응 관계로 변화하는 수(변할 수 있는 값)"
      ],
      "metadata": {
        "id": "ymCfCsm2o87s"
      }
    },
    {
      "cell_type": "code",
      "source": [],
      "metadata": {
        "id": "MnU3KaPWnFKE"
      },
      "execution_count": null,
      "outputs": []
    },
    {
      "cell_type": "markdown",
      "source": [
        "## 리스트?\n",
        "- 숫자 또는 문자의 모음을 표현하고 싶을 때 대괄호([])로 감싸주고 각 요소의 값을 쉼표(,)로 구분해 표현"
      ],
      "metadata": {
        "id": "63CeGJoryDl4"
      }
    },
    {
      "cell_type": "markdown",
      "source": [
        "### 인덱싱\n",
        "- 리스트의 요소 값을 불러오는 것"
      ],
      "metadata": {
        "id": "rPEtibRoyYIj"
      }
    },
    {
      "cell_type": "code",
      "source": [
        "a = [1,2,3]\n",
        "a"
      ],
      "metadata": {
        "id": "Zdq81tiSmyyx",
        "colab": {
          "base_uri": "https://localhost:8080/"
        },
        "outputId": "5d4426ef-90ec-4303-9214-a4b948048f87"
      },
      "execution_count": null,
      "outputs": [
        {
          "output_type": "execute_result",
          "data": {
            "text/plain": [
              "[1, 2, 3]"
            ]
          },
          "metadata": {},
          "execution_count": 10
        }
      ]
    },
    {
      "cell_type": "code",
      "source": [
        "a[0]"
      ],
      "metadata": {
        "id": "MyuXOAIdlzKw",
        "colab": {
          "base_uri": "https://localhost:8080/"
        },
        "outputId": "fe8fdec6-a1a4-4269-c1ce-832f61884fe1"
      },
      "execution_count": null,
      "outputs": [
        {
          "output_type": "execute_result",
          "data": {
            "text/plain": [
              "1"
            ]
          },
          "metadata": {},
          "execution_count": 11
        }
      ]
    },
    {
      "cell_type": "code",
      "source": [
        "a[0]+ a[2]"
      ],
      "metadata": {
        "id": "dtIqgq8kgb8U",
        "colab": {
          "base_uri": "https://localhost:8080/"
        },
        "outputId": "004b7fe3-26fd-4b38-c617-f3ab207d5831"
      },
      "execution_count": null,
      "outputs": [
        {
          "output_type": "execute_result",
          "data": {
            "text/plain": [
              "4"
            ]
          },
          "metadata": {},
          "execution_count": 12
        }
      ]
    },
    {
      "cell_type": "code",
      "source": [
        "a[-1]"
      ],
      "metadata": {
        "colab": {
          "base_uri": "https://localhost:8080/"
        },
        "id": "KWqqMIH8yj2T",
        "outputId": "35913251-ecc2-42d6-f013-1d5b328c04e2"
      },
      "execution_count": null,
      "outputs": [
        {
          "output_type": "execute_result",
          "data": {
            "text/plain": [
              "3"
            ]
          },
          "metadata": {},
          "execution_count": 13
        }
      ]
    },
    {
      "cell_type": "markdown",
      "source": [
        "#### 삼중 인덱싱"
      ],
      "metadata": {
        "id": "8yS8VCsgyzCr"
      }
    },
    {
      "cell_type": "code",
      "source": [
        "a = [1,2, ['a', 'b', ['Life', 'is']]]\n",
        "\n",
        "a[2][2][0]"
      ],
      "metadata": {
        "colab": {
          "base_uri": "https://localhost:8080/",
          "height": 35
        },
        "id": "Wxk7R9eIyvVn",
        "outputId": "8dcaad39-7490-4e8d-b43d-735c386938ef"
      },
      "execution_count": null,
      "outputs": [
        {
          "output_type": "execute_result",
          "data": {
            "text/plain": [
              "'Life'"
            ],
            "application/vnd.google.colaboratory.intrinsic+json": {
              "type": "string"
            }
          },
          "metadata": {},
          "execution_count": 14
        }
      ]
    },
    {
      "cell_type": "markdown",
      "source": [
        "### 슬라이싱\n",
        "- 리스트의 요소를 나누어 표현(?)하는 방식"
      ],
      "metadata": {
        "id": "IlyOF1A-zMfx"
      }
    },
    {
      "cell_type": "code",
      "source": [
        "a = [1,2,3,4,5]\n",
        "a[0:2]"
      ],
      "metadata": {
        "colab": {
          "base_uri": "https://localhost:8080/"
        },
        "id": "7sQAHAfVzCp8",
        "outputId": "6d69f3c2-a9f3-4ca0-d572-f181b2c4e147"
      },
      "execution_count": null,
      "outputs": [
        {
          "output_type": "execute_result",
          "data": {
            "text/plain": [
              "[1, 2]"
            ]
          },
          "metadata": {},
          "execution_count": 15
        }
      ]
    },
    {
      "cell_type": "markdown",
      "source": [
        "#### 중첩된 리스트에서 슬라이싱"
      ],
      "metadata": {
        "id": "Juu4gGTJzd9j"
      }
    },
    {
      "cell_type": "code",
      "source": [
        "a = [1, 2, 3, ['a', 'b', 'c'], 4, 5]\n",
        "a[2:5]"
      ],
      "metadata": {
        "colab": {
          "base_uri": "https://localhost:8080/"
        },
        "id": "00eo5JMmzZj7",
        "outputId": "c8248150-b449-42a4-a80d-aa9f2955520b"
      },
      "execution_count": null,
      "outputs": [
        {
          "output_type": "execute_result",
          "data": {
            "text/plain": [
              "[3, ['a', 'b', 'c'], 4]"
            ]
          },
          "metadata": {},
          "execution_count": 16
        }
      ]
    },
    {
      "cell_type": "markdown",
      "source": [
        "### 리스트 연산"
      ],
      "metadata": {
        "id": "Bw79w3OOzuNi"
      }
    },
    {
      "cell_type": "code",
      "source": [
        "a = [1, 2, 3]\n",
        "b = [4, 5, 6]\n",
        "# add\n",
        "print(a+b)\n",
        "# mul\n",
        "print(a*3)\n",
        "# length\n",
        "len(a)"
      ],
      "metadata": {
        "colab": {
          "base_uri": "https://localhost:8080/"
        },
        "id": "FopBq1vLzqJz",
        "outputId": "5498fd5f-4d73-4499-bd2c-978d8a2920ed"
      },
      "execution_count": null,
      "outputs": [
        {
          "output_type": "stream",
          "name": "stdout",
          "text": [
            "[1, 2, 3, 4, 5, 6]\n",
            "[1, 2, 3, 1, 2, 3, 1, 2, 3]\n"
          ]
        },
        {
          "output_type": "execute_result",
          "data": {
            "text/plain": [
              "3"
            ]
          },
          "metadata": {},
          "execution_count": 22
        }
      ]
    },
    {
      "cell_type": "code",
      "source": [
        "# 리스트 요소 추가\n",
        "a.append([4,5])\n",
        "\n",
        "# 리스트 정렬\n",
        "c = [1,4,3,2]\n",
        "c.sort()\n",
        "\n",
        "# 리스트 뒤집기\n",
        "d = ['a', 'c', 'b']\n",
        "d.reverse()\n",
        "d\n",
        "\n",
        "# 위치 반환\n",
        "e = [1,2,3]\n",
        "print(e.index(3))\n",
        "\n",
        "print(a)\n",
        "print(b)\n",
        "print(c)\n",
        "print(d)\n"
      ],
      "metadata": {
        "colab": {
          "base_uri": "https://localhost:8080/"
        },
        "id": "3IL1OM7V0LWl",
        "outputId": "786bca73-3377-461d-cd89-f92af4306bb5"
      },
      "execution_count": null,
      "outputs": [
        {
          "output_type": "stream",
          "name": "stdout",
          "text": [
            "2\n",
            "[1, 2, 3, [4, 5], [4, 5]]\n",
            "[4, 5, 6]\n",
            "[1, 2, 3, 4]\n",
            "['b', 'c', 'a']\n"
          ]
        }
      ]
    },
    {
      "cell_type": "markdown",
      "source": [
        "## 출력"
      ],
      "metadata": {
        "id": "8pEAu0FH8MCI"
      }
    },
    {
      "cell_type": "code",
      "source": [
        "print(\"foo\", 42, \"bar\")\n",
        "\n",
        "print(\"foo\", 42, \"bar\", sep=\"/\")\n",
        "\n",
        "print(\"foo\", 42, \"bar\", sep=\"...\")\n",
        "\n",
        "print(\"foo\", 42, \"bar\", sep=\"\")"
      ],
      "metadata": {
        "id": "p8V8Ixwa1b-s",
        "colab": {
          "base_uri": "https://localhost:8080/"
        },
        "outputId": "f7342b9c-1708-4b60-c5df-bf78e4fecd8b"
      },
      "execution_count": null,
      "outputs": [
        {
          "output_type": "stream",
          "name": "stdout",
          "text": [
            "foo 42 bar\n",
            "foo/42/bar\n",
            "foo...42...bar\n",
            "foo42bar\n"
          ]
        }
      ]
    },
    {
      "cell_type": "code",
      "source": [
        "print(\"foo\", end=\"/\")\n",
        "print(42, end=\"/\")\n",
        "print(\"bar\")"
      ],
      "metadata": {
        "colab": {
          "base_uri": "https://localhost:8080/"
        },
        "id": "COr5SwwNzfsO",
        "outputId": "c4afafee-e8ec-435d-a514-3b91542078f3"
      },
      "execution_count": null,
      "outputs": [
        {
          "output_type": "stream",
          "name": "stdout",
          "text": [
            "foo/42/bar\n"
          ]
        }
      ]
    },
    {
      "cell_type": "markdown",
      "source": [
        "### 이스케이프 문자 이해\n",
        "- 문자 또는 숫자랑 같이 따옴표 안에 표시\n",
        "- \\n : 줄 바꾸기\n",
        "- \\t : 탭\n",
        "- \\enter : 줄 계속\n",
        "- \\\\ : \\ 기호 표시\n",
        "- \\' 또는 \\\" : ' 기호 또는 \" 기호 "
      ],
      "metadata": {
        "id": "nImhGxJC_a2o"
      }
    },
    {
      "cell_type": "markdown",
      "source": [
        "### 연습문제"
      ],
      "metadata": {
        "id": "zT50lVd68gGG"
      }
    },
    {
      "cell_type": "code",
      "source": [
        "# 연습문제1\n",
        "# 변수 num에 65를 대입하고 출력하세요\n",
        "\n",
        "num = 65\n",
        "print(num)"
      ],
      "metadata": {
        "colab": {
          "base_uri": "https://localhost:8080/"
        },
        "id": "IXgQMnAk0KvX",
        "outputId": "cfaad232-745a-4570-bf71-d5d92ed0d170"
      },
      "execution_count": null,
      "outputs": [
        {
          "output_type": "stream",
          "name": "stdout",
          "text": [
            "65\n"
          ]
        }
      ]
    },
    {
      "cell_type": "code",
      "source": [
        "# 연습문제2\n",
        "# 변수 num을 copy_num1, copy_num2에 대입하세요\n",
        "copy_num1 = num\n",
        "copy_num2 = num"
      ],
      "metadata": {
        "id": "hobqB5aH0LFr"
      },
      "execution_count": null,
      "outputs": []
    },
    {
      "cell_type": "code",
      "source": [
        "# 연습문제3\n",
        "# 변수 num에 정수 2를 더하고, 변수 res 할당하세요, 그리고 print() 함수로 res 변수의 값을 출력하세요\n",
        "res = num + 2\n",
        "print(res)"
      ],
      "metadata": {
        "colab": {
          "base_uri": "https://localhost:8080/"
        },
        "id": "zbrbDkk00LOp",
        "outputId": "e94b2c36-d0f8-41f1-a9e6-fa009dfaae7a"
      },
      "execution_count": null,
      "outputs": [
        {
          "output_type": "stream",
          "name": "stdout",
          "text": [
            "67\n"
          ]
        }
      ]
    },
    {
      "cell_type": "code",
      "source": [
        "# 연습문제4\n",
        "# 65, res, sum 을 출력하세요\n",
        "sum = num + res\n",
        "print(65)\n",
        "print(res)\n",
        "print(sum)"
      ],
      "metadata": {
        "colab": {
          "base_uri": "https://localhost:8080/"
        },
        "id": "O3x0tYaV0LZK",
        "outputId": "3a4dbe1a-e600-4a5a-fa68-2451faa8ff31"
      },
      "execution_count": null,
      "outputs": [
        {
          "output_type": "stream",
          "name": "stdout",
          "text": [
            "65\n",
            "67\n",
            "132\n"
          ]
        }
      ]
    },
    {
      "cell_type": "code",
      "source": [
        "# 연습문제5\n",
        "# num, res, sum 변수를 print() 함수 1개에 한번에 출력하세요\n",
        "print(num, res, sum)"
      ],
      "metadata": {
        "colab": {
          "base_uri": "https://localhost:8080/"
        },
        "id": "cy1gzPOF1bVa",
        "outputId": "924a8ef8-a66b-41b1-ff3c-0e557dd1c7bb"
      },
      "execution_count": null,
      "outputs": [
        {
          "output_type": "stream",
          "name": "stdout",
          "text": [
            "65 67 132\n"
          ]
        }
      ]
    },
    {
      "cell_type": "code",
      "source": [
        "# 연습문제6\n",
        "print('Life', 'is', 'short', 'art', 'long', 'oppertunity', 'fleeting')\n",
        "print('experience', 'treacherous', 'judgement', 'difficult')"
      ],
      "metadata": {
        "colab": {
          "base_uri": "https://localhost:8080/"
        },
        "id": "I539FVn12kML",
        "outputId": "43e2a8a4-7f8f-4d86-fc65-9c9db30aae40"
      },
      "execution_count": null,
      "outputs": [
        {
          "output_type": "stream",
          "name": "stdout",
          "text": [
            "Life is short art long oppertunity fleeting\n",
            "experience treacherous judgement difficult\n"
          ]
        }
      ]
    },
    {
      "cell_type": "code",
      "source": [
        "# 6.1 [공백 제거]된 상태로 출력하세요\n",
        "print('Life', 'is', 'short', 'art', 'long', 'oppertunity', 'fleeting', sep=\"\")\n",
        "print('experience', 'treacherous', 'judgement', 'difficult', sep=\"\")"
      ],
      "metadata": {
        "colab": {
          "base_uri": "https://localhost:8080/"
        },
        "id": "QM6fNFU53y-L",
        "outputId": "ff1bbfd5-49d3-489a-c02b-c591a81b6e49"
      },
      "execution_count": null,
      "outputs": [
        {
          "output_type": "stream",
          "name": "stdout",
          "text": [
            "Lifeisshortartlongoppertunityfleeting\n",
            "experiencetreacherousjudgementdifficult\n"
          ]
        }
      ]
    },
    {
      "cell_type": "code",
      "source": [
        "# 6.2 [줄바꿈 없이] 한 줄로 출력하세요\n",
        "print('Life', 'is', 'short', 'art', 'long', 'oppertunity', 'fleeting', end=\"\")\n",
        "print('experience', 'treacherous', 'judgement', 'difficult', end=\"\")"
      ],
      "metadata": {
        "colab": {
          "base_uri": "https://localhost:8080/"
        },
        "id": "jwVxeKHh37Kn",
        "outputId": "dd2c03bb-8c07-4fc1-99f8-6f38cbde5a7a"
      },
      "execution_count": null,
      "outputs": [
        {
          "output_type": "stream",
          "name": "stdout",
          "text": [
            "Life is short art long oppertunity fleetingexperience treacherous judgement difficult"
          ]
        }
      ]
    },
    {
      "cell_type": "code",
      "source": [
        "# 6.3 문장에서 \\n을 사용해, 총 5줄로 출력하세요\n",
        "print('Life', 'is', 'short', 'art', 'long', 'oppertunity', 'fleeting')\n",
        "print('experience\\n', 'treacherous\\n', 'judgement\\n', 'difficult', sep=\"\")"
      ],
      "metadata": {
        "colab": {
          "base_uri": "https://localhost:8080/"
        },
        "id": "jP2xP6sy37OX",
        "outputId": "f9048ec2-41bc-473c-a5a4-dfe46b29d920"
      },
      "execution_count": null,
      "outputs": [
        {
          "output_type": "stream",
          "name": "stdout",
          "text": [
            "Life is short art long oppertunity fleeting\n",
            "experience\n",
            "treacherous\n",
            "judgement\n",
            "difficult\n"
          ]
        }
      ]
    },
    {
      "cell_type": "markdown",
      "source": [
        "## 입력\n",
        "- input() 함수 사용"
      ],
      "metadata": {
        "id": "V97ljWn78VDA"
      }
    },
    {
      "cell_type": "code",
      "source": [
        "# input() 함수 사용하기\n",
        "\n",
        "user_input = input()\n",
        "\n",
        "print(\"입력 내용: \", user_input)"
      ],
      "metadata": {
        "colab": {
          "base_uri": "https://localhost:8080/"
        },
        "id": "SJjz2LznA542",
        "outputId": "ff48537f-91eb-4e02-923b-b7ef5f5b21a3"
      },
      "execution_count": null,
      "outputs": [
        {
          "output_type": "stream",
          "name": "stdout",
          "text": [
            "hello\n",
            "입력 내용:  hello\n"
          ]
        }
      ]
    },
    {
      "cell_type": "code",
      "source": [
        "number = int(input(\"Enter a number: \"))\n",
        "\n",
        "print(number + 100)"
      ],
      "metadata": {
        "colab": {
          "base_uri": "https://localhost:8080/"
        },
        "id": "7mSmdCipCn7G",
        "outputId": "ae98e88c-7974-4aa1-914b-7c8c1f0189d3"
      },
      "execution_count": null,
      "outputs": [
        {
          "output_type": "stream",
          "name": "stdout",
          "text": [
            "Enter a number: 123\n",
            "223\n"
          ]
        }
      ]
    },
    {
      "cell_type": "markdown",
      "source": [
        "### 연습문제\n"
      ],
      "metadata": {
        "id": "lev1hjRu8iEH"
      }
    },
    {
      "cell_type": "code",
      "source": [
        "# 문제1\n",
        "# phone_no 변수에 핸드폰 번호를 입력받아 출력하세요.\n",
        "\n",
        "# tip\n",
        "# fname = input(\"핸드폰 번호를 입력 하세요>> \")\n",
        "\n",
        "phone_no = input(\"핸드폰 번호를 입력하세요>> \")\n",
        "print(\"핸드폰 번호:\", phone_no)"
      ],
      "metadata": {
        "colab": {
          "base_uri": "https://localhost:8080/"
        },
        "id": "KQfEnmi44FjR",
        "outputId": "171347de-fa59-4691-b911-a4da0651ef95"
      },
      "execution_count": null,
      "outputs": [
        {
          "output_type": "stream",
          "name": "stdout",
          "text": [
            "핸드폰 번호를 입력하세요>> 01012345678\n",
            "핸드폰 번호: 01012345678\n"
          ]
        }
      ]
    },
    {
      "cell_type": "code",
      "source": [
        "name = input(\"이름을 입력해주세요. >> \")\n",
        "\n",
        "print(\"이름:\", name)"
      ],
      "metadata": {
        "colab": {
          "base_uri": "https://localhost:8080/"
        },
        "id": "shV3YHOQBTbG",
        "outputId": "9a9ba24d-f7a9-4d46-835a-ca82254ae533"
      },
      "execution_count": null,
      "outputs": [
        {
          "output_type": "stream",
          "name": "stdout",
          "text": [
            "이름을 입력해주세요. >> 홍길동\n",
            "이름: 홍길동\n"
          ]
        }
      ]
    },
    {
      "cell_type": "code",
      "source": [
        "# 문제2\n",
        "# 사람의 특징을 변수 10개로 입력받아 출력하세요\n",
        "\n",
        "# tip\n",
        "# 이름, 성, 생일, 고향, 전화번호, 혈액형, 키, 몸무게, 국적, mbti, \n",
        "# 배고픔 상태, 현재 기분, 최대 체력, 최대 의지, 필요 집중력, 열정 정도\n",
        "# fname = input(\"이름을 입력하세요>> \")\n",
        "\n",
        "first_name = input(\"이름을 입력하세요>> \")\n",
        "last_name = input(\"성을 입력하세요>> \")\n",
        "birth = input(\"생일을 입력하세요>> \")\n",
        "hometown = input(\"고향을 입력하세요>> \")\n",
        "phone = input(\"전화번호를 입력하세요>> \")\n",
        "blood_type = input(\"혈액형을 입력하세요>> \")\n",
        "height = input(\"키를 입력하세요>> \")\n",
        "weight = input(\"몸무게를 입력하세요>> \")\n",
        "nationality = input(\"국적을 입력하세요>> \")\n",
        "mbti = input(\"mbti를 입력하세요>> \")\n",
        "\n",
        "print(\"이름:\", first_name)\n",
        "print(\"성:\", last_name)\n",
        "print(\"생일:\", birth)\n",
        "print(\"고향:\", hometown)\n",
        "print(\"전화번호:\", phone)\n",
        "print(\"혈액형:\", blood_type)\n",
        "print(\"키:\", height)\n",
        "print(\"몸무게:\", weight)\n",
        "print(\"국적:\", nationality)\n",
        "print(\"mbti:\", mbti)"
      ],
      "metadata": {
        "colab": {
          "base_uri": "https://localhost:8080/"
        },
        "id": "xFjgJtJw8uKC",
        "outputId": "5bea46ea-c8bf-4546-b703-d15e0b0c0304"
      },
      "execution_count": null,
      "outputs": [
        {
          "output_type": "stream",
          "name": "stdout",
          "text": [
            "이름을 입력하세요>> 길동\n",
            "성을 입력하세요>> 홍\n",
            "생일을 입력하세요>> 230602\n",
            "고향을 입력하세요>> 광주\n",
            "전화번호를 입력하세요>> 01012345678\n",
            "혈액형을 입력하세요>> A\n",
            "키를 입력하세요>> 170\n",
            "몸무게를 입력하세요>> 70\n",
            "국적을 입력하세요>> 대한민국\n",
            "mbti를 입력하세요>> ISFP\n",
            "이름: 길동\n",
            "성: 홍\n",
            "생일: 230602\n",
            "고향: 광주\n",
            "전화번호: 01012345678\n",
            "혈액형: A\n",
            "키: 170\n",
            "몸무게: 70\n",
            "국적: 대한민국\n",
            "mbti: ISFP\n"
          ]
        }
      ]
    },
    {
      "cell_type": "code",
      "source": [
        "# 문제3\n",
        "# 프로그래밍은 \"현실의 어떤 대상\"을 소스 코드로 구현하는 것이다.\n",
        "# 주위 사물의 속성을 변수 10개로 만들어 입력받아 출력하세요.\n",
        "\n",
        "# tip\n",
        "# 책상 속성: 크기, 무게, 재질, 가격, 색 등\n",
        "\n",
        "width = input(\"책상의 가로길이를 입력하세요>> \")\n",
        "length = input(\"책상의 세로길이를 입력하세요>> \")\n",
        "height = input(\"책상의 높이를 입력하세요>> \")\n",
        "weight = input(\"책상의 무게를 입력하세요>> \")\n",
        "plate_material = input(\"책상의 상판재질를 입력하세요>> \")\n",
        "leg_material = input(\"책상의 다리재질을 입력하세요>> \")\n",
        "price = input(\"책상의 가격을 입력하세요>> \")\n",
        "plate_color = input(\"책상의 상판 색깔을 입력하세요>> \")\n",
        "leg_color = input(\"책상의 다리 색깔을 입력하세요>> \")\n",
        "number_drawers = input(\"책상의 서랍단수를 입력하세요>> \")\n",
        "\n",
        "print(\"가로 길이 :\", width)\n",
        "print(\"세로 길이 :\", length)\n",
        "print(\"높이 :\", height)\n",
        "print(\"무게 :\", weight)\n",
        "print(\"상판 재질 :\", plate_material)\n",
        "print(\"다리 재질 :\", leg_material)\n",
        "print(\"가격 :\", price)\n",
        "print(\"상판 색깔 :\", plate_color)\n",
        "print(\"다리 색깔 :\", leg_color)\n",
        "print(\"서랍단수 :\", number_drawers)\n",
        "\n",
        "\n"
      ],
      "metadata": {
        "colab": {
          "base_uri": "https://localhost:8080/"
        },
        "id": "lWXUjUa48-b2",
        "outputId": "fa2989db-9a16-4735-dfed-5e1251c2691a"
      },
      "execution_count": null,
      "outputs": [
        {
          "output_type": "stream",
          "name": "stdout",
          "text": [
            "책상의 가로길이를 입력하세요>> 100\n",
            "책상의 세로길이를 입력하세요>> 60\n",
            "책상의 높이를 입력하세요>> 120\n",
            "책상의 무게를 입력하세요>> 10\n",
            "책상의 상판재질를 입력하세요>> 플라스틱\n",
            "책상의 다리재질을 입력하세요>> SUS304\n",
            "책상의 가격을 입력하세요>> 100000\n",
            "책상의 상판 색깔을 입력하세요>> Green\n",
            "책상의 다리 색깔을 입력하세요>> Grey\n",
            "책상의 서랍단수를 입력하세요>> 3\n",
            "가로 길이 : 100\n",
            "세로 길이 : 60\n",
            "높이 : 120\n",
            "무게 : 10\n",
            "상판 재질 : 플라스틱\n",
            "다리 재질 : SUS304\n",
            "가격 : 100000\n",
            "상판 색깔 : Green\n",
            "다리 색깔 : Grey\n",
            "서랍단수 : 3\n"
          ]
        }
      ]
    },
    {
      "cell_type": "markdown",
      "source": [
        "## 자료형"
      ],
      "metadata": {
        "id": "VQhpPvE8h2AK"
      }
    },
    {
      "cell_type": "markdown",
      "source": [
        "### 숫자형"
      ],
      "metadata": {
        "id": "TCUNm0Iqh56E"
      }
    },
    {
      "cell_type": "code",
      "source": [
        "# 문제 3\n",
        "# 정수 2개를 변수이름에 대입하고 \n",
        "# 아래 산술 연산을 각각 수행한 후 결과를 새로운 변수에 대입하세요. \n",
        "# 그리고 print()함수로 출력하세요.\n",
        "num1 = 12\n",
        "num2 = 3\n",
        "# 덧셈\n",
        "add = num1 + num2\n",
        "# 뺄셈\n",
        "sub = num1 - num2\n",
        "# 곱셈\n",
        "mul = num1 * num2\n",
        "# 나눗셈\n",
        "div = num1 / num2\n",
        "# 몫 연산자\n",
        "quo = num1 // num2\n",
        "# 나머지\n",
        "rest = num1 % num2\n",
        "# 거듭제곱\n",
        "power = num1 ** num2\n",
        "# 행렬 곱셈\n",
        "\n",
        "# 양수 부호\n",
        "pos = +num1\n",
        "# 음수 부호\n",
        "neg = -num2\n",
        "\n",
        "print(add, sub, mul, div, quo, rest, power, pos, neg)"
      ],
      "metadata": {
        "id": "Brl0kVfzG85D",
        "colab": {
          "base_uri": "https://localhost:8080/"
        },
        "outputId": "b8722f4e-a614-4c39-ffec-899cc6792f6a"
      },
      "execution_count": null,
      "outputs": [
        {
          "output_type": "stream",
          "name": "stdout",
          "text": [
            "15 9 36 4.0 4 0 1728 12 -3\n"
          ]
        }
      ]
    },
    {
      "cell_type": "code",
      "source": [
        "# 문제 4\n",
        "# 정수 1개와 실수 1개를 변수이름에 대입하고 \n",
        "# 아래 산술 연산을 각각 수행한 후 결과를 새로운 변수에 대입하세요. \n",
        "# 그리고 print()함수로 출력하세요.\n",
        "\n",
        "num3 = 12\n",
        "num4 = 3.2\n",
        "# 덧셈\n",
        "add = num3 + num4\n",
        "# 뺄셈\n",
        "sub = num3 - num4\n",
        "# 곱셈\n",
        "mul = num3 * num4\n",
        "# 나눗셈\n",
        "div = num3 / num4\n",
        "# 몫 연산자\n",
        "quo = num3 // num4\n",
        "# 나머지\n",
        "rest = num3 % num4\n",
        "# 거듭제곱\n",
        "power = num3 ** num4\n",
        "# 행렬 곱셈\n",
        "\n",
        "# 양수 부호\n",
        "pos = +num3\n",
        "# 음수 부호\n",
        "neg = -num4\n",
        "\n",
        "print(add, sub, mul, div, quo, rest, power, pos, neg)"
      ],
      "metadata": {
        "colab": {
          "base_uri": "https://localhost:8080/"
        },
        "id": "FPzOD4Vlj4lI",
        "outputId": "d684df8d-347c-443c-de18-cb77b2b598c6"
      },
      "execution_count": null,
      "outputs": [
        {
          "output_type": "stream",
          "name": "stdout",
          "text": [
            "15.2 8.8 38.400000000000006 3.75 3.0 2.3999999999999995 2840.403161405767 12 -3.2\n"
          ]
        }
      ]
    },
    {
      "cell_type": "markdown",
      "source": [
        "#### 복합 대입 연산자\n",
        "- += : 덧셈 후 할당\n",
        "- -= : 뺄셈 후 할당\n",
        "- *= : 곱셈 후 할당\n",
        "- /= : 나눗셈 후 할당\n",
        "- //= : 몫 연산자 후 할당\n",
        "- %= : 나머지 후 할당\n",
        "- **= : 거듭제곱 후 할당\n",
        "- @= : 행렬 곱셈 후 할당"
      ],
      "metadata": {
        "id": "Oqi_uNqEkdUZ"
      }
    },
    {
      "cell_type": "code",
      "source": [
        "# 문제 5\n",
        "# 정수 2개를 변수이름에 각각 대입하고 \n",
        "# 아래 산술 연산자를 이용한 결과를 새로운 변수이름에 대입하세요. \n",
        "# 그리고 print()함수로출력하세요.\n",
        "\n",
        "num5 = 100\n",
        "num6 = 2\n",
        "\n",
        "# +=\n",
        "num5 += num6\n",
        "print(num5) \n",
        "# -=\n",
        "num5 -= num6\n",
        "print(num5)\n",
        "# *=\n",
        "num5 *= num6\n",
        "print(num5)\n",
        "# /=\n",
        "num5 /= num6\n",
        "print(num5)\n",
        "# //=\n",
        "num5 //= num6\n",
        "print(num5)\n",
        "# **=\n",
        "num5 **= num6\n",
        "print(num5)\n",
        "# %=\n",
        "num5 %= num6\n",
        "print(num5)\n",
        "# @="
      ],
      "metadata": {
        "colab": {
          "base_uri": "https://localhost:8080/"
        },
        "id": "5UesXsIdkLxZ",
        "outputId": "54386f60-00ce-4ecc-e7dc-7d2b91392b3e"
      },
      "execution_count": null,
      "outputs": [
        {
          "output_type": "stream",
          "name": "stdout",
          "text": [
            "102\n",
            "100\n",
            "200\n",
            "100.0\n",
            "50.0\n",
            "2500.0\n",
            "0.0\n"
          ]
        }
      ]
    },
    {
      "cell_type": "code",
      "source": [
        "# 문제 6\n",
        "# 정수 1개와 실수 1개를 변수이름에 각각 대입하고 \n",
        "# 아래 산술 연산자를 이용한 결과를 새로운 변수이름에 대입하세요. \n",
        "# 그리고 print()함수로 출력하세요.\n",
        "\n",
        "num7 = 100\n",
        "num8 = 2.5\n",
        "\n",
        "# +=\n",
        "num7 += num8\n",
        "print(num7)\n",
        "# -=\n",
        "num7 -= num8\n",
        "print(num7)\n",
        "# *=\n",
        "num7 *= num8\n",
        "print(num7)\n",
        "# /=\n",
        "num7 /= num8\n",
        "print(num7)\n",
        "# //=\n",
        "num7 //= num8\n",
        "print(num7)\n",
        "# **=\n",
        "num7 **= num8\n",
        "print(num7)\n",
        "# %=\n",
        "num7 %= num8\n",
        "print(num7)\n",
        "# @="
      ],
      "metadata": {
        "colab": {
          "base_uri": "https://localhost:8080/"
        },
        "id": "vp6eQE00lu4V",
        "outputId": "9d0f98d0-39bc-4991-bf53-44538b4754c0"
      },
      "execution_count": null,
      "outputs": [
        {
          "output_type": "stream",
          "name": "stdout",
          "text": [
            "102.5\n",
            "100.0\n",
            "250.0\n",
            "100.0\n",
            "40.0\n",
            "10119.288512538815\n",
            "1.7885125388147571\n"
          ]
        }
      ]
    },
    {
      "cell_type": "code",
      "source": [
        "# 되는 경우\n",
        "\n",
        "num = 3\n",
        "num += 10\n",
        "print(num)"
      ],
      "metadata": {
        "colab": {
          "base_uri": "https://localhost:8080/"
        },
        "id": "RBSdtI6kmg0R",
        "outputId": "895aaf90-efe3-4f37-bea9-68ac19c98bbf"
      },
      "execution_count": null,
      "outputs": [
        {
          "output_type": "stream",
          "name": "stdout",
          "text": [
            "13\n"
          ]
        }
      ]
    },
    {
      "cell_type": "code",
      "source": [
        "# 안 되는 경우\n",
        "\n",
        "# num = 3\n",
        "# print(num +=10)"
      ],
      "metadata": {
        "id": "6J-oDJEtnuwn"
      },
      "execution_count": null,
      "outputs": []
    },
    {
      "cell_type": "markdown",
      "source": [
        "## 순서도\n",
        "- 순서도(코드)를 보고 코드(순서도)를 만들 수 있어야 함"
      ],
      "metadata": {
        "id": "OMXVQq020vuc"
      }
    },
    {
      "cell_type": "markdown",
      "source": [
        "- 예제1"
      ],
      "metadata": {
        "id": "A3H_QYrx2rVb"
      }
    },
    {
      "cell_type": "markdown",
      "source": [
        "![image.png](data:image/png;base64,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)"
      ],
      "metadata": {
        "id": "ELK1o7_42pD_"
      }
    },
    {
      "cell_type": "code",
      "source": [
        "a = 3\n",
        "b = 5\n",
        "add = a + b\n",
        "mul = a * b\n",
        "print(add)\n",
        "print(mul)"
      ],
      "metadata": {
        "colab": {
          "base_uri": "https://localhost:8080/"
        },
        "id": "erc3zdROnzVP",
        "outputId": "d35eeca1-8429-48e7-f242-ec4d4a428bd3"
      },
      "execution_count": null,
      "outputs": [
        {
          "output_type": "stream",
          "name": "stdout",
          "text": [
            "8\n",
            "15\n"
          ]
        }
      ]
    },
    {
      "cell_type": "code",
      "source": [
        "a = int(input(\"숫자를 입력하세요>> \"))\n",
        "b = int(input(\"숫자를 입력하세요>> \"))\n",
        "sub = a - b\n",
        "print(sub)"
      ],
      "metadata": {
        "id": "uBi79JqK00Hc",
        "colab": {
          "base_uri": "https://localhost:8080/"
        },
        "outputId": "bdf81efe-30aa-4cf7-bada-bbc3031e88a7"
      },
      "execution_count": null,
      "outputs": [
        {
          "output_type": "stream",
          "name": "stdout",
          "text": [
            "숫자를 입력하세요>> 3\n",
            "숫자를 입력하세요>> 2\n",
            "1\n"
          ]
        }
      ]
    },
    {
      "cell_type": "markdown",
      "source": [
        "## 인덱싱"
      ],
      "metadata": {
        "id": "v9AJi78rZnuD"
      }
    },
    {
      "cell_type": "markdown",
      "source": [
        "## 문자열 포매팅"
      ],
      "metadata": {
        "id": "uoDoxxhWZtMV"
      }
    },
    {
      "cell_type": "markdown",
      "source": [
        "### 문자열"
      ],
      "metadata": {
        "id": "SPiLJ_u_Zv4d"
      }
    },
    {
      "cell_type": "code",
      "source": [
        "# 서식 지정자 사용해 출력\n",
        "\n",
        "name = 'james'\n",
        "print('이름%s.' % name)"
      ],
      "metadata": {
        "colab": {
          "base_uri": "https://localhost:8080/"
        },
        "id": "MPGx6URkX0-K",
        "outputId": "40ef9d64-bb85-4f2d-eecd-fe99f91a1272"
      },
      "execution_count": null,
      "outputs": [
        {
          "output_type": "stream",
          "name": "stdout",
          "text": [
            "이름james.\n"
          ]
        }
      ]
    },
    {
      "cell_type": "code",
      "source": [
        "# 서식 지정자 사용해 오른쪽 정렬 출력\n",
        "\n",
        "name = 'james'\n",
        "print('이름%10s.' % name)"
      ],
      "metadata": {
        "colab": {
          "base_uri": "https://localhost:8080/"
        },
        "id": "eZwhBeAHZhtw",
        "outputId": "2d19b0be-5480-4f39-d6a7-0ee87da8f787"
      },
      "execution_count": null,
      "outputs": [
        {
          "output_type": "stream",
          "name": "stdout",
          "text": [
            "이름     james.\n"
          ]
        }
      ]
    },
    {
      "cell_type": "code",
      "source": [
        "# 서식 지정자 사용해 왼쪽 정렬 출력\n",
        "\n",
        "name = 'james'\n",
        "print('이름%-10s.' % name)"
      ],
      "metadata": {
        "colab": {
          "base_uri": "https://localhost:8080/"
        },
        "id": "RMxv4tYwZjpI",
        "outputId": "f499f9d2-e352-4edf-a390-36ed154a1acb"
      },
      "execution_count": null,
      "outputs": [
        {
          "output_type": "stream",
          "name": "stdout",
          "text": [
            "이름james     .\n"
          ]
        }
      ]
    },
    {
      "cell_type": "code",
      "source": [
        "age = 20\n",
        "ph_no = '010-1234-5678'\n",
        "name = '홍길동'\n",
        "print('이름 %s 나이 %d 휴대폰번호 %s'%(name,age,ph_no))"
      ],
      "metadata": {
        "colab": {
          "base_uri": "https://localhost:8080/"
        },
        "id": "pXrmu1SJZkxw",
        "outputId": "a53df9f2-b73e-4d8d-d960-5e006e559c99"
      },
      "execution_count": null,
      "outputs": [
        {
          "output_type": "stream",
          "name": "stdout",
          "text": [
            "이름 홍길동 나이 20 휴대폰번호 010-1234-5678\n"
          ]
        }
      ]
    },
    {
      "cell_type": "markdown",
      "source": [
        "### f-string\n",
        "- 3.6버전 이상에서 사용 가능\n",
        "- 중괄호({})를 사용하여 변수를 적어서 사용 가능\n",
        "- 중괄호({}) 안에서 연산 가능"
      ],
      "metadata": {
        "id": "EdBB1Pa8cAXw"
      }
    },
    {
      "cell_type": "code",
      "source": [
        "integer_num = 11\n",
        "float_num   = 1.3456\n",
        "Octal_num   = 0o177\n",
        "Hexa_num    = 0xFF\n",
        "\n",
        "print(f\"\"\"\n",
        "정수   :{integer_num :>10}   # > 오른쪽 정렬, 정수 10자리\n",
        "정수   :{integer_num :>7}     # > 오른쪽 정렬, 정수  7자리\n",
        "실수   :{float_num   :>10.2f} # > 오른쪽 정렬, 정수 10자리 + 실수 소수점 2자리\n",
        "실수   :{float_num   :<10.5f} # <   왼쪽 정렬, 정수 10자리 + 실수 소수점 5자리\n",
        "실수   :{float_num   :^10.2f} # ^ 가운데 정렬, 정수 10자리 + 실수 소수점 2자리\n",
        "8진수  :{Octal_num   :>10.2f}\n",
        "16진수 :{Hexa_num    :>10.2f} \"\"\")\n",
        "\n",
        "# {float_num   :>10.2f} : 오른쪽 정렬, 문자열이 출력되는 전체 공간 10칸, 나타내는 소수점 자리수 2자리"
      ],
      "metadata": {
        "colab": {
          "base_uri": "https://localhost:8080/"
        },
        "id": "vzaIU35MagHp",
        "outputId": "64019ad8-5589-480d-f31f-769667e6375a"
      },
      "execution_count": null,
      "outputs": [
        {
          "output_type": "stream",
          "name": "stdout",
          "text": [
            "\n",
            "정수   :        11   # > 오른쪽 정렬, 정수 10자리\n",
            "정수   :     11     # > 오른쪽 정렬, 정수  7자리\n",
            "실수   :      1.35 # > 오른쪽 정렬, 정수 10자리 + 실수 소수점 2자리\n",
            "실수   :1.34560    # <   왼쪽 정렬, 정수 10자리 + 실수 소수점 5자리\n",
            "실수   :   1.35    # ^ 가운데 정렬, 정수 10자리 + 실수 소수점 2자리\n",
            "8진수  :    127.00\n",
            "16진수 :    255.00 \n"
          ]
        }
      ]
    },
    {
      "cell_type": "code",
      "source": [
        "r = input(\"반지름을 입력하세요>> \")\n",
        "type(r)"
      ],
      "metadata": {
        "colab": {
          "base_uri": "https://localhost:8080/"
        },
        "id": "iSg6PP-Ocecg",
        "outputId": "7dcdb2fa-7c06-4675-8a7d-06a2f15c44ad"
      },
      "execution_count": null,
      "outputs": [
        {
          "name": "stdout",
          "output_type": "stream",
          "text": [
            "반지름을 입력하세요>> 3\n"
          ]
        },
        {
          "output_type": "execute_result",
          "data": {
            "text/plain": [
              "str"
            ]
          },
          "metadata": {},
          "execution_count": 26
        }
      ]
    },
    {
      "cell_type": "code",
      "source": [
        "meter = 3213\n",
        "km = meter // 1000\n",
        "m = meter % 1000\n",
        "print(km)\n",
        "print(m)"
      ],
      "metadata": {
        "colab": {
          "base_uri": "https://localhost:8080/"
        },
        "id": "Lruse6OOe3dm",
        "outputId": "cd1acb72-1687-46a4-ee93-ca95aaa7a1a1"
      },
      "execution_count": null,
      "outputs": [
        {
          "output_type": "stream",
          "name": "stdout",
          "text": [
            "3\n",
            "213\n"
          ]
        }
      ]
    },
    {
      "cell_type": "markdown",
      "source": [
        "## 불리언\n",
        "- 참과 거짓"
      ],
      "metadata": {
        "id": "84ojglzPksn0"
      }
    },
    {
      "cell_type": "code",
      "source": [
        "# 숫자형\n",
        "# 0 제외한 숫자는 True\n",
        "\n",
        "print(bool(1))\n",
        "print(bool(11))\n",
        "print(bool(-11))\n",
        "\n",
        "print(bool(0))\n",
        "print(bool(0.0))"
      ],
      "metadata": {
        "colab": {
          "base_uri": "https://localhost:8080/"
        },
        "id": "Ij_r7xRcjmK4",
        "outputId": "6725cffc-16d0-41e4-ccf3-448f0e628237"
      },
      "execution_count": null,
      "outputs": [
        {
          "output_type": "stream",
          "name": "stdout",
          "text": [
            "True\n",
            "True\n",
            "True\n",
            "False\n",
            "False\n"
          ]
        }
      ]
    },
    {
      "cell_type": "code",
      "source": [
        "# 문자형\n",
        "# 값이 있을 때 True\n",
        "\n",
        "print(\"Python\" == \"Python\")\n",
        "print(bool('abc'))\n",
        "print(\"Python\" == \"\")\n",
        "print(bool(\"\"))"
      ],
      "metadata": {
        "colab": {
          "base_uri": "https://localhost:8080/"
        },
        "id": "qMr9ZfM1kpYt",
        "outputId": "e3624f46-6336-42b2-ea31-86b210f10b51"
      },
      "execution_count": null,
      "outputs": [
        {
          "output_type": "stream",
          "name": "stdout",
          "text": [
            "True\n",
            "True\n",
            "False\n",
            "False\n"
          ]
        }
      ]
    },
    {
      "cell_type": "markdown",
      "source": [
        "### 비교 연산자"
      ],
      "metadata": {
        "id": "bSYSRWIFl99a"
      }
    },
    {
      "cell_type": "code",
      "source": [
        "# ==, !=, is, is not 비교\n",
        "\n",
        "print(1 == 1.0)\n",
        "print(1 is 1.0)\n",
        "print(1 is not 1.0)"
      ],
      "metadata": {
        "colab": {
          "base_uri": "https://localhost:8080/"
        },
        "id": "aOiUFmoMkz_k",
        "outputId": "d455df47-bd78-4344-dff4-105a231f33c4"
      },
      "execution_count": null,
      "outputs": [
        {
          "output_type": "stream",
          "name": "stdout",
          "text": [
            "True\n",
            "False\n",
            "True\n"
          ]
        },
        {
          "output_type": "stream",
          "name": "stderr",
          "text": [
            "<>:4: SyntaxWarning: \"is\" with a literal. Did you mean \"==\"?\n",
            "<>:5: SyntaxWarning: \"is not\" with a literal. Did you mean \"!=\"?\n",
            "<>:4: SyntaxWarning: \"is\" with a literal. Did you mean \"==\"?\n",
            "<>:5: SyntaxWarning: \"is not\" with a literal. Did you mean \"!=\"?\n",
            "<ipython-input-34-9f74844e59d1>:4: SyntaxWarning: \"is\" with a literal. Did you mean \"==\"?\n",
            "  print(1 is 1.0)\n",
            "<ipython-input-34-9f74844e59d1>:5: SyntaxWarning: \"is not\" with a literal. Did you mean \"!=\"?\n",
            "  print(1 is not 1.0)\n"
          ]
        }
      ]
    },
    {
      "cell_type": "code",
      "source": [
        "# 예제\n",
        "\n",
        "a = 1\n",
        "b = 2\n",
        "\n",
        "bot_1 = (a == b)\n",
        "bot_2 = (a != b)\n",
        "bot_3 = (a >  b)\n",
        "bot_4 = (a <  b)\n",
        "bot_5 = (a >= b)\n",
        "bot_6 = (a <= b)\n",
        "bot_7 = (a is b)\n",
        "bot_8 = (a is not b)\n",
        "print(bot_1)\n",
        "print(bot_2)\n",
        "print(bot_3)\n",
        "print(bot_4)\n",
        "print(bot_5)\n",
        "print(bot_6)\n",
        "print(bot_7)\n",
        "print(bot_8)"
      ],
      "metadata": {
        "colab": {
          "base_uri": "https://localhost:8080/"
        },
        "id": "OZuop7-kl1_l",
        "outputId": "dbe516e0-d8e7-483e-e446-9724b8083baa"
      },
      "execution_count": null,
      "outputs": [
        {
          "output_type": "stream",
          "name": "stdout",
          "text": [
            "False\n",
            "True\n",
            "False\n",
            "True\n",
            "False\n",
            "True\n",
            "False\n",
            "True\n"
          ]
        }
      ]
    },
    {
      "cell_type": "markdown",
      "source": [
        "### 논리 연산자\n",
        "- and\n",
        "- or\n",
        "- not"
      ],
      "metadata": {
        "id": "mwA2TyAUocgT"
      }
    },
    {
      "cell_type": "code",
      "source": [
        "# and\n",
        "# or\n",
        "a = 1\n",
        "b = 2\n",
        "bot_1 = (a == b)\n",
        "bot_2 = (a != b)\n",
        "res1 = (a == b) and (a != b)\n",
        "res2 = bot_1 and bot_2\n",
        "res3 = ((False and True) and True) and False\n",
        "\n",
        "res4 = (a == b) or (a != b)\n",
        "res5 = bot_1 or bot_2\n",
        "res6 = False or True\n",
        "\n",
        "print(res1, res2, res3, res4, res5, res6)"
      ],
      "metadata": {
        "colab": {
          "base_uri": "https://localhost:8080/"
        },
        "id": "qdAG1TSTnDSb",
        "outputId": "87dd109c-dfb3-4265-be75-8cc8c95e7feb"
      },
      "execution_count": null,
      "outputs": [
        {
          "output_type": "stream",
          "name": "stdout",
          "text": [
            "False False False True True True\n"
          ]
        }
      ]
    },
    {
      "cell_type": "code",
      "source": [
        "print(True and \"Python\")\n",
        "print(False and \"Python\")\n",
        "print(\"Python\" and True)\n",
        "print(\"Python\" and False)"
      ],
      "metadata": {
        "colab": {
          "base_uri": "https://localhost:8080/"
        },
        "id": "d2j-Q5Dsp6MM",
        "outputId": "b2c38046-4911-41de-f905-ee1c06939c89"
      },
      "execution_count": null,
      "outputs": [
        {
          "output_type": "stream",
          "name": "stdout",
          "text": [
            "Python\n",
            "False\n"
          ]
        }
      ]
    },
    {
      "cell_type": "code",
      "source": [
        "minute = int(input(\"분을 입력하세요>> \"))\n",
        "day = minute // 60 // 24\n",
        "hour = minute % 1440 // 60\n",
        "min = minute % 60\n",
        "print(day, hour, min)"
      ],
      "metadata": {
        "colab": {
          "base_uri": "https://localhost:8080/"
        },
        "id": "UAzpfAQqqiGT",
        "outputId": "7c604313-431e-45e0-c18c-63bd173a6140"
      },
      "execution_count": null,
      "outputs": [
        {
          "name": "stdout",
          "output_type": "stream",
          "text": [
            "분을 입력하세요>> 2843\n"
          ]
        },
        {
          "output_type": "execute_result",
          "data": {
            "text/plain": [
              "23"
            ]
          },
          "metadata": {},
          "execution_count": 47
        }
      ]
    },
    {
      "cell_type": "code",
      "source": [],
      "metadata": {
        "id": "e22_3k_9VRwo"
      },
      "execution_count": null,
      "outputs": []
    },
    {
      "cell_type": "code",
      "source": [],
      "metadata": {
        "id": "JxW7RB-OVRnb"
      },
      "execution_count": null,
      "outputs": []
    },
    {
      "cell_type": "markdown",
      "source": [
        "## 조건문"
      ],
      "metadata": {
        "id": "6Zoa6sUn-LeW"
      }
    },
    {
      "cell_type": "code",
      "source": [
        "if (1==1):\n",
        "    sentence1\n",
        "    sentence2\n",
        "    sentence3\n",
        "sentence4"
      ],
      "metadata": {
        "id": "Fr1iVY3I8mRW"
      },
      "execution_count": null,
      "outputs": []
    },
    {
      "cell_type": "code",
      "source": [
        "hrs = 30\n",
        "\n",
        "if hrs >= 40:\n",
        "    print('보너스를 200%를 지급합니다.')\n",
        "else:\n",
        "    print('기본급을 지급합니다.')\n",
        "\n",
        "print('보너스는 지급 프로세스를 종료합니다.')"
      ],
      "metadata": {
        "colab": {
          "base_uri": "https://localhost:8080/"
        },
        "id": "JSlaeFrX_rPw",
        "outputId": "4edf7bd4-0a19-433e-a3f0-02a93ab1984a"
      },
      "execution_count": null,
      "outputs": [
        {
          "output_type": "stream",
          "name": "stdout",
          "text": [
            "기본급을 지급합니다.\n",
            "보너스는 지급 프로세스를 종료합니다.\n"
          ]
        }
      ]
    },
    {
      "cell_type": "code",
      "source": [
        "# 입력받은 점수에 따라, 상장과 시상 내역을 출력 가능하게 하세요.\n",
        "\n",
        "score = int(input(\"점수를 입력하세요>> \"))\n",
        "if (score >= 90):\n",
        "    print(\"금상 : 상장, 도서상품권 20개\")\n",
        "elif (score >= 80):\n",
        "    print(\"은상 : 상장, 도서상품권 10개\")\n",
        "elif (score >= 70):\n",
        "    print(\"동상 : 상장, 도서상품권 5개\")\n",
        "elif (score >= 60):\n",
        "    print(\"장려상\")\n",
        "else:\n",
        "    print(\"참가상\")\n",
        "print(\"시상 지급 완료\")"
      ],
      "metadata": {
        "colab": {
          "base_uri": "https://localhost:8080/"
        },
        "id": "j9tXUYm-_r91",
        "outputId": "a957e843-ff9c-4347-f9db-38f56a8a9abe"
      },
      "execution_count": null,
      "outputs": [
        {
          "output_type": "stream",
          "name": "stdout",
          "text": [
            "점수를 입력하세요>> 81\n",
            "은상 : 상장, 도서상품권 10개\n",
            "시상 지급 완료\n"
          ]
        }
      ]
    },
    {
      "cell_type": "code",
      "source": [
        "### if ~ if 문 ###\n",
        "\n",
        "a = 4\n",
        "\n",
        "if a > 3:\n",
        "    print('a가 3보다 큽니다!')\n",
        "if a > 0:\n",
        "    print('a가 0보다 큽니다!')\n",
        "\n",
        "# 출력 결과\n",
        "# a가 3보다 큽니다!\n",
        "# a가 0보다 큽니다!"
      ],
      "metadata": {
        "colab": {
          "base_uri": "https://localhost:8080/"
        },
        "id": "RNZgfQOXCJvG",
        "outputId": "f98cfc35-247b-46b2-c9ac-c4bd99507934"
      },
      "execution_count": null,
      "outputs": [
        {
          "output_type": "stream",
          "name": "stdout",
          "text": [
            "a가 3보다 큽니다!\n",
            "a가 0보다 큽니다!\n"
          ]
        }
      ]
    },
    {
      "cell_type": "code",
      "source": [
        "### if ~ elif 문 ###\n",
        "\n",
        "a = 4\n",
        "\n",
        "if a > 3:\n",
        "    print('a가 3보다 큽니다!')\n",
        "elif a > 0:\n",
        "    print('a가 0보다 큽니다!')\n",
        "\n",
        "# 출력 결과\n",
        "# a가 3보다 큽니다!"
      ],
      "metadata": {
        "colab": {
          "base_uri": "https://localhost:8080/"
        },
        "id": "V9kGlzpRKygx",
        "outputId": "9f6c6642-3c6e-41a6-d5f4-869b3f4452f7"
      },
      "execution_count": null,
      "outputs": [
        {
          "output_type": "stream",
          "name": "stdout",
          "text": [
            "a가 3보다 큽니다!\n"
          ]
        }
      ]
    },
    {
      "cell_type": "markdown",
      "source": [
        "- 예제 9 ~ 17"
      ],
      "metadata": {
        "id": "6E4BsiRxh8Wf"
      }
    },
    {
      "cell_type": "code",
      "source": [
        "# 예제9\n",
        "a = input(\"숫자를 입력하세요>> \")\n",
        "b = input(\"숫자를 입력하세요>> \")\n",
        "if (a>b):\n",
        "    print(a)\n",
        "else:\n",
        "    print(b)"
      ],
      "metadata": {
        "colab": {
          "base_uri": "https://localhost:8080/"
        },
        "id": "G-_HBv4eKzHU",
        "outputId": "f051ad60-e791-436e-f1f3-7a0021873970"
      },
      "execution_count": null,
      "outputs": [
        {
          "output_type": "stream",
          "name": "stdout",
          "text": [
            "숫자를 입력하세요>> 3\n",
            "숫자를 입력하세요>> 2\n",
            "3\n"
          ]
        }
      ]
    },
    {
      "cell_type": "code",
      "source": [
        "# 예제10\n",
        "a = int(input(\"숫자를 입력하세요>> \"))\n",
        "if (a<0):\n",
        "    print(\"음수\")\n",
        "elif (a>0):\n",
        "    print(\"양수\")\n",
        "else:\n",
        "    print(\"0\")"
      ],
      "metadata": {
        "colab": {
          "base_uri": "https://localhost:8080/"
        },
        "id": "juD1USCoSaib",
        "outputId": "edcfacb8-a22e-4b16-8d74-cbc4a56de4a3"
      },
      "execution_count": null,
      "outputs": [
        {
          "output_type": "stream",
          "name": "stdout",
          "text": [
            "숫자를 입력하세요>> 3\n",
            "양수\n"
          ]
        }
      ]
    },
    {
      "cell_type": "code",
      "source": [
        "# 예제11\n",
        "a = input(\"숫자를 입력하세요>> \")\n",
        "b = input(\"숫자를 입력하세요>> \")\n",
        "c = input(\"숫자를 입력하세요>> \")\n",
        "if (a>b) and (a>c):\n",
        "    print(a)\n",
        "elif (a>b) and (a<c):\n",
        "    print(c)\n",
        "elif (a<=b) and (b>c):\n",
        "    print(b)\n",
        "elif (a<=b) and (b<c):\n",
        "    print(c)"
      ],
      "metadata": {
        "colab": {
          "base_uri": "https://localhost:8080/"
        },
        "id": "fGG6qKaESanL",
        "outputId": "97c6a1f1-2b66-4e62-f01b-031e2d33fb8d"
      },
      "execution_count": null,
      "outputs": [
        {
          "output_type": "stream",
          "name": "stdout",
          "text": [
            "숫자를 입력하세요>> 3\n",
            "숫자를 입력하세요>> 2\n",
            "숫자를 입력하세요>> 4\n",
            "4\n"
          ]
        }
      ]
    },
    {
      "cell_type": "code",
      "source": [
        "# 예제12\n",
        "max = input(\"숫자를 입력하세요>> \")\n",
        "a = input(\"숫자를 입력하세요>> \")\n",
        "if (a>max):\n",
        "    max = a\n",
        "b = input(\"숫자를 입력하세요>> \")\n",
        "if (b>max):\n",
        "    max = b\n",
        "print(max)"
      ],
      "metadata": {
        "colab": {
          "base_uri": "https://localhost:8080/"
        },
        "id": "bFNzKi--SaqW",
        "outputId": "3a74001f-7490-41ea-83a5-33a2dc0ab9b8"
      },
      "execution_count": null,
      "outputs": [
        {
          "output_type": "stream",
          "name": "stdout",
          "text": [
            "숫자를 입력하세요>> 3\n",
            "숫자를 입력하세요>> 2\n",
            "숫자를 입력하세요>> 4\n",
            "4\n"
          ]
        }
      ]
    },
    {
      "cell_type": "code",
      "source": [
        "# 예제13\n",
        "num = int(input(\"숫자를 입력하세요>> \"))\n",
        "if ((num % 2) == 0):\n",
        "    print(\"짝수\")\n",
        "else:\n",
        "    print(\"홀수\")"
      ],
      "metadata": {
        "colab": {
          "base_uri": "https://localhost:8080/"
        },
        "id": "K5PvJwZdSasx",
        "outputId": "12d65df2-eef2-471c-a6ba-a11cb7e7775a"
      },
      "execution_count": null,
      "outputs": [
        {
          "output_type": "stream",
          "name": "stdout",
          "text": [
            "숫자를 입력하세요>> 4\n",
            "짝수\n"
          ]
        }
      ]
    },
    {
      "cell_type": "code",
      "source": [
        "# 예제14\n",
        "num = int(input(\"숫자를 입력하세요>> \"))\n",
        "if (num % 3) == 0:\n",
        "    print(f\"{num}은 3의 배수입니다.\")\n",
        "else:\n",
        "    print(f\"{num}은 3의 배수가 아닙니다.\")"
      ],
      "metadata": {
        "colab": {
          "base_uri": "https://localhost:8080/"
        },
        "id": "A6BHtg7pSawi",
        "outputId": "d2ed3289-5a98-48ef-8074-d841f8306a22"
      },
      "execution_count": null,
      "outputs": [
        {
          "output_type": "stream",
          "name": "stdout",
          "text": [
            "숫자를 입력하세요>> 7\n",
            "7은 3의 배수가 아닙니다.\n"
          ]
        }
      ]
    },
    {
      "cell_type": "code",
      "source": [
        "# 예제15\n",
        "fee = 5000\n",
        "age = int(input(\"나이를 입력하세요>> \"))\n",
        "if (age < 8):\n",
        "    print(f\"{age}세 아이는 무료로 입장하세요.\")\n",
        "elif (age >= 60):\n",
        "    print(f\"{age}세의 입장료는 {fee * 0.5}원 입니다.\")\n",
        "else:\n",
        "    print(f\"{age}세의 입장료는 {fee}원 입니다.\")"
      ],
      "metadata": {
        "colab": {
          "base_uri": "https://localhost:8080/"
        },
        "id": "3y4tlSuFSa1D",
        "outputId": "7ff7c1d3-6767-470a-c08c-cd660c21a97d"
      },
      "execution_count": null,
      "outputs": [
        {
          "output_type": "stream",
          "name": "stdout",
          "text": [
            "나이를 입력하세요>> 7\n",
            "7세 아이는 무료로 입장하세요.\n"
          ]
        }
      ]
    },
    {
      "cell_type": "code",
      "source": [
        "# 예제16\n",
        "num = int(input(\"숫자를 입력하세요>> \"))\n",
        "if (num % 3 == 0) and (num % 5 == 0):\n",
        "    print(f\"{num}은 3의 배수이면서 5의 배수입니다.\")\n",
        "else:\n",
        "    print(f\"{num}은 3의 배수이면서 5의 배수가 아니다.\")"
      ],
      "metadata": {
        "colab": {
          "base_uri": "https://localhost:8080/"
        },
        "id": "tzUzmTd4Sa5N",
        "outputId": "c49b12ad-cb80-4b80-acea-7fb38e0ddd7d"
      },
      "execution_count": null,
      "outputs": [
        {
          "output_type": "stream",
          "name": "stdout",
          "text": [
            "숫자를 입력하세요>> 225\n",
            "225은 3의 배수이면서 5의 배수입니다.\n"
          ]
        }
      ]
    },
    {
      "cell_type": "code",
      "source": [
        "# 예제17\n",
        "age = int(input(\"숫자를 입력하세요>> \"))\n",
        "if (age<8) or (age>=60):\n",
        "    print(\"무료\")\n",
        "else:\n",
        "    print(\"5000원\")"
      ],
      "metadata": {
        "id": "QD0KYgWtSbAK"
      },
      "execution_count": null,
      "outputs": []
    },
    {
      "cell_type": "markdown",
      "source": [
        "- 과제 6~11"
      ],
      "metadata": {
        "id": "Bx-TgnDFh5C9"
      }
    },
    {
      "cell_type": "code",
      "source": [
        "# 과제6\n",
        "num1 = int(input(\"숫자를 입력하세요>> \"))\n",
        "num2 = int(input(\"숫자를 입력하세요>> \"))\n",
        "if(num1<num2):\n",
        "    print(num1)\n",
        "elif(num1>=num2):\n",
        "    print(num2)"
      ],
      "metadata": {
        "colab": {
          "base_uri": "https://localhost:8080/"
        },
        "id": "Z6-7TFonZzlu",
        "outputId": "a9900cd0-11ff-4020-cd8e-a7abbe7270cb"
      },
      "execution_count": null,
      "outputs": [
        {
          "output_type": "stream",
          "name": "stdout",
          "text": [
            "숫자를 입력하세요>> 2\n",
            "숫자를 입력하세요>> 2\n",
            "2\n"
          ]
        }
      ]
    },
    {
      "cell_type": "code",
      "source": [
        "# 과제7\n",
        "num1 = int(input(\"숫자를 입력하세요>> \"))\n",
        "num2 = int(input(\"숫자를 입력하세요>> \"))\n",
        "if (num1>num2):\n",
        "    print(num1-num2)\n",
        "elif (num1<=num2):\n",
        "    print(num2-num1)"
      ],
      "metadata": {
        "colab": {
          "base_uri": "https://localhost:8080/"
        },
        "id": "r6pIdQ1gZzc8",
        "outputId": "2aadc4fc-22ca-463f-fa65-75a9eb5aedec"
      },
      "execution_count": null,
      "outputs": [
        {
          "output_type": "stream",
          "name": "stdout",
          "text": [
            "숫자를 입력하세요>> 3\n",
            "숫자를 입력하세요>> 1\n",
            "2\n"
          ]
        }
      ]
    },
    {
      "cell_type": "code",
      "source": [
        "# 과제8\n",
        "num1 = int(input(\"숫자를 입력하세요>> \"))\n",
        "num2 = int(input(\"숫자를 입력하세요>> \"))\n",
        "num3 = int(input(\"숫자를 입력하세요>> \"))\n",
        "if (num1 > num2):\n",
        "    num1 = num2\n",
        "if (num1 > num3):\n",
        "    num1 = num3\n",
        "print(num1)"
      ],
      "metadata": {
        "colab": {
          "base_uri": "https://localhost:8080/"
        },
        "id": "ujI9XATyZzVo",
        "outputId": "707f748f-4c1c-4019-f3e5-c45b86cd6f13"
      },
      "execution_count": null,
      "outputs": [
        {
          "output_type": "stream",
          "name": "stdout",
          "text": [
            "숫자를 입력하세요>> 1\n",
            "숫자를 입력하세요>> 2\n",
            "숫자를 입력하세요>> 3\n",
            "1\n"
          ]
        }
      ]
    },
    {
      "cell_type": "code",
      "source": [
        "# 과제10\n",
        "dis = int(input(\"거리를 입력하세요>> \"))\n",
        "if (dis<5):\n",
        "    print(\"1000원\")\n",
        "elif (dis>=10):\n",
        "    print(\"3000원\")\n",
        "else:\n",
        "    print(\"2000원\")"
      ],
      "metadata": {
        "id": "Nje76z94ZzNY"
      },
      "execution_count": null,
      "outputs": []
    },
    {
      "cell_type": "code",
      "source": [
        "# 과제11\n",
        "num = int(input(\"숫자를 입력하세요>> \"))\n",
        "if (num%5==0) and (num%7==0):\n",
        "    print(f\"{num}은(는) 5의 배수이면서 7의 배수입니다.\") \n",
        "elif (num%5==0):\n",
        "    print(f\"{num}은(는) 5의 배수입니다.\")\n",
        "elif (num%7==0):\n",
        "    print(f\"{num}은(는) 7의 배수입니다.\")\n",
        "else:\n",
        "    print(f\"{num}은(는) 5의 배수도 아니고 7의 배수도 아닙니다.\")"
      ],
      "metadata": {
        "colab": {
          "base_uri": "https://localhost:8080/"
        },
        "id": "fUQi6bf4ZzDW",
        "outputId": "a3f9718e-7e63-4da6-8c54-c4a26c34e4ef"
      },
      "execution_count": null,
      "outputs": [
        {
          "output_type": "stream",
          "name": "stdout",
          "text": [
            "숫자를 입력하세요>> 70\n",
            "70은(는) 5의 배수입니다.\n",
            "70은(는) 7의 배수입니다.\n"
          ]
        }
      ]
    },
    {
      "cell_type": "code",
      "source": [],
      "metadata": {
        "id": "t2dXD6QehxpN"
      },
      "execution_count": null,
      "outputs": []
    }
  ]
}