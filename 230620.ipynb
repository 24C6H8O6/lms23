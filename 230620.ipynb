{
  "nbformat": 4,
  "nbformat_minor": 0,
  "metadata": {
    "colab": {
      "provenance": [],
      "toc_visible": true,
      "authorship_tag": "ABX9TyOI5e6lL3ggDcMzf39cEZ/v",
      "include_colab_link": true
    },
    "kernelspec": {
      "name": "python3",
      "display_name": "Python 3"
    },
    "language_info": {
      "name": "python"
    }
  },
  "cells": [
    {
      "cell_type": "markdown",
      "metadata": {
        "id": "view-in-github",
        "colab_type": "text"
      },
      "source": [
        "<a href=\"https://colab.research.google.com/github/Yoonseungwook/lms23/blob/main/230620.ipynb\" target=\"_parent\"><img src=\"https://colab.research.google.com/assets/colab-badge.svg\" alt=\"Open In Colab\"/></a>"
      ]
    },
    {
      "cell_type": "markdown",
      "source": [
        "## 간단한 프로그램 함수로 구현하기1\n",
        "사용자에게 숫자 2개를 입력받고 사칙연산 기호(+,-,*,/,%,//)를 입력받으면, 그 연산 결과를 출력하라.\n",
        "공백(화이트 스페이스)를 입력받아도 무시되도록 구현하라."
      ],
      "metadata": {
        "id": "MUF2-1DwfKXd"
      }
    },
    {
      "cell_type": "code",
      "source": [
        "# 쉽게 이해하기 위한 예시\n",
        "a = func1()\n",
        "b = func2()\n",
        "\n",
        "def func3()\n",
        "    return a + b\n",
        "\n",
        "c = func3"
      ],
      "metadata": {
        "id": "QllKKoIldSlO"
      },
      "execution_count": null,
      "outputs": []
    },
    {
      "cell_type": "code",
      "source": [
        "# 1-1. 입력\n",
        "def input1():\n",
        "    # 1. a,b를 문자로 받아 타입이 숫자일때 넘어가도록\n",
        "    num1 = input(\"숫자1 입력 : \")\n",
        "    num2 = input(\"숫자2 입력 : \")\n",
        "    a = int(num1)\n",
        "    b = int(num2)\n",
        "    # 2. 사칙연산이 6개 일때만 적용되도록 할 것\n",
        "    sign = input(\"사칙연산 기호 입력 : \")\n",
        "    return a,b,sign\n",
        "\n",
        "# 1-2. 사칙연산\n",
        "def four_arith(a, b, c):\n",
        "    if (c==\"+\"):\n",
        "        result = a+b\n",
        "    elif (c==\"-\"):\n",
        "        result = a-b\n",
        "    elif (c==\"*\"):\n",
        "        result = a*b\n",
        "    elif (c==\"/\"):\n",
        "        result = a/b\n",
        "    elif (c==\"%\"):\n",
        "        result = a%b\n",
        "    elif (c==\"//\"):\n",
        "        result = a//b\n",
        "    return result\n",
        "\n",
        "\n",
        "# 2. 실행\n",
        "def exe():\n",
        "    boolean = True\n",
        "    while boolean:\n",
        "        a, b, c = input1()\n",
        "        sign_list = [\"+\",\"-\",\"*\", \"/\", \"%\", \"//\"]\n",
        "        if c in sign_list:\n",
        "            res = four_arith(a, b, c)\n",
        "            print(res)\n",
        "            boolean = False\n",
        "        else:\n",
        "            print(\"다시 입력하세요!!!!\")\n",
        "\n",
        "exe()"
      ],
      "metadata": {
        "colab": {
          "base_uri": "https://localhost:8080/"
        },
        "id": "XAdR7MHzRwre",
        "outputId": "472357e5-5f02-41f4-dc35-ca41c736b413"
      },
      "execution_count": 55,
      "outputs": [
        {
          "output_type": "stream",
          "name": "stdout",
          "text": [
            "숫자1 입력 : 4\n",
            "숫자2 입력 : 3\n",
            "사칙연산 기호 입력 : -\n",
            "1\n"
          ]
        }
      ]
    },
    {
      "cell_type": "code",
      "source": [
        "exe()"
      ],
      "metadata": {
        "id": "vJ3RSvUPeHmf"
      },
      "execution_count": null,
      "outputs": []
    },
    {
      "cell_type": "markdown",
      "source": [
        "## 간단한 프로그램 함수로 구현하기2\n",
        "사용자가 사각형의 넓이, 원의 넓이, 삼각형의 넓이, 원의 둘레를 선택하도록 구현하라.\n",
        "그리고 계산에 필요한 값을 입력받고, 그 결과를 출력하는 프로그램을 구현하라.\n"
      ],
      "metadata": {
        "id": "2LmvvcBGgfA_"
      }
    },
    {
      "cell_type": "code",
      "source": [
        "def input1():\n",
        "    choice = input(\"다음 중 구하고자 하는 것을 고르시오\\n사각형의 넓이, 원의 넓이, 삼각형의 넓이, 원의 둘레\\n입력 : \")\n",
        "    return choice\n",
        "\n",
        "def sqr_area():\n",
        "    width = int(input(\"가로의 길이 입력 : \"))\n",
        "    length = int(input(\"세로의 길이 입력 : \"))\n",
        "    result = width * length\n",
        "    return result\n",
        "\n",
        "def cir_area():\n",
        "    r = int(input(\"반지름 입력 : \"))\n",
        "    result = (r ** 2) * 3.14\n",
        "    return result\n",
        "\n",
        "def tri_area():\n",
        "    base = int(input(\"밑변 입력 : \"))\n",
        "    height = int(input(\"높이 입력 : \"))\n",
        "    result = base * height / 2\n",
        "    return result\n",
        "\n",
        "def cir_round():\n",
        "    r = int(input(\"반지름 입력 : \"))\n",
        "    result = 2 * 3.14 * r\n",
        "    return result\n",
        "\n",
        "def area():\n",
        "    choice = input1()\n",
        "    if (choice==\"사각형의 넓이\"):\n",
        "        result = sqr_area()\n",
        "    elif (choice==\"원의 넓이\"):\n",
        "        result = cir_area()\n",
        "    elif (choice==\"삼각형의 넓이\"):\n",
        "        result = tri_area()\n",
        "    elif (choice==\"원의 둘레\"):\n",
        "        result = cir_round()\n",
        "    print(result)\n",
        "\n",
        "area()"
      ],
      "metadata": {
        "colab": {
          "base_uri": "https://localhost:8080/"
        },
        "id": "u-EIwxGYfI8V",
        "outputId": "37c6c9fb-5e49-43fd-e649-dc36c5614f17"
      },
      "execution_count": 64,
      "outputs": [
        {
          "output_type": "stream",
          "name": "stdout",
          "text": [
            "다음 중 구하고자 하는 것을 고르시오\n",
            "사각형의 넓이, 원의 넓이, 삼각형의 넓이, 원의 둘레\n",
            "입력 : 사각형의 넓이\n",
            "가로의 길이 입력 : 4\n",
            "세로의 길이 입력 : 2\n",
            "8\n"
          ]
        }
      ]
    },
    {
      "cell_type": "markdown",
      "source": [
        "## 간단한 프로그램 함수로 구현하기3\n",
        "사용자가 숫자를 원하는 개수만큼 입력한다.\n",
        "\n",
        "출력 결과는, 가장 큰 수와 가장 작은수, 홀수와 짝수인지, 양수, 0, 음수의 판결 결과를 출력하는 프로그램을 구현하라\n",
        "\n",
        "사용자가 입력하는 숫자와 숫자 사이를 구분하는 방법은 개발자가 선택하세요."
      ],
      "metadata": {
        "id": "gORLJmcIsubf"
      }
    },
    {
      "cell_type": "code",
      "source": [
        "# 1. 입력 함수\n",
        "def input1():\n",
        "    a = list(map(int, input(\"띄어쓰기로 입력하고 싶은 만큼의 수를 입력하세요 >> \").split()))\n",
        "    return a\n",
        "# 2-1. 가장 큰 수\n",
        "def max1():\n",
        "    max = a[0]\n",
        "    for i in range(len(a)):\n",
        "        if (max<=a[i]):\n",
        "            max = a[i]\n",
        "    return max\n",
        "# 2-2. 가장 작은 수\n",
        "def min1():\n",
        "    min = a[0]\n",
        "    for i in range(len(a)):\n",
        "        if (min<a[i]):\n",
        "            min = a[i]\n",
        "    return min\n",
        "# 3-1. 짝수\n",
        "def even1():\n",
        "    even_list = []\n",
        "    for i in range(len(a)):\n",
        "        if (a[i]%2==0):\n",
        "            even_list.append(a[i])\n",
        "    return even_list\n",
        "# 3-2. 홀수\n",
        "def odd1():\n",
        "    odd_list = []\n",
        "    for i in range(len(a)):\n",
        "        if (a[i]%2!=0):\n",
        "            odd_list.append(a[i])\n",
        "    return odd_list\n",
        "# 4-1. 양수\n",
        "def plus1():\n",
        "    plus_list = []\n",
        "    for i in range(len(a)):\n",
        "        if (a[i]>0):\n",
        "            plus_list.append(a[i])\n",
        "    return plus_list\n",
        "# 4-2. 음수\n",
        "def minus1():\n",
        "    minus_list = []\n",
        "    for i in range(len(a)):\n",
        "        if (a[i]<0):\n",
        "            minus_list.append(a[i])\n",
        "    return minus_list\n",
        "# 4-3. 0\n",
        "def zero1():\n",
        "    zero_list = []\n",
        "    for i in range(len(a)):\n",
        "        if (a[i]==0):\n",
        "            zero_list.append(a[i])\n",
        "    return zero_list\n",
        "\n",
        "def program3():\n",
        "    a = input1()\n",
        "    print(a)\n",
        "    # 가장 큰 수와 가장 작은수\n",
        "    max = max1()\n",
        "    min = min1()\n",
        "    # 홀수,짝수\n",
        "    odd_list = odd1()\n",
        "    even_list = even1()\n",
        "    # 양수,0, 음수\n",
        "    plus_list = plus1()\n",
        "    minus_list = minus1()\n",
        "    zero_list = zero1()\n",
        "\n",
        "    print(f\"가장 큰 수 : {max}\\n가장 작은 수 : {min}\\n홀수 : {odd_list}\\n짝수 : {even_list}\\n양수 : {plus_list}\\n0 : {zero_list}\\n음수 : {minus_list}\")\n"
      ],
      "metadata": {
        "id": "0Egifg67o2nk"
      },
      "execution_count": 75,
      "outputs": []
    },
    {
      "cell_type": "code",
      "source": [
        "program3()"
      ],
      "metadata": {
        "colab": {
          "base_uri": "https://localhost:8080/"
        },
        "id": "8RBkX9m2v6B2",
        "outputId": "294f099b-f3f2-4c9c-c293-1a7ec8e62fe2"
      },
      "execution_count": 76,
      "outputs": [
        {
          "output_type": "stream",
          "name": "stdout",
          "text": [
            "띄어쓰기로 입력하고 싶은 만큼의 수를 입력하세요 >> 1 2 3\n",
            "[1, 2, 3]\n",
            "가장 큰 수 : 7\n",
            "가장 작은 수 : 7\n",
            "홀수 : [1, 7]\n",
            "짝수 : [4]\n",
            "양수 : [1, 4, 7]\n",
            "0 : []\n",
            "음수 : []\n"
          ]
        }
      ]
    },
    {
      "cell_type": "markdown",
      "source": [
        "## 간단한 프로그램 함수로 구현하기4\n",
        "\n",
        "세 수를 입력받아, 숫자와 숫자 사이의 수의 합을 사용자가 원하는 의도대로 계산되도록 구현하라.\n",
        "\n",
        "모든 방법은 개발자가 선택하세요."
      ],
      "metadata": {
        "id": "wsYiQDNKwx0p"
      }
    },
    {
      "cell_type": "code",
      "source": [
        "def input1():\n",
        "    a = int(input(\"숫자1 입력 : \"))\n",
        "    b = int(input(\"숫자2 입력 : \"))\n",
        "    c = int(input(\"숫자3 입력 : \"))\n",
        "    return a,b,c\n",
        "def add_a_b(a,b):\n",
        "    add = 0\n",
        "    if (a<b):\n",
        "        for i in range(a,b+1):\n",
        "            add += i\n",
        "    else:\n",
        "        for i in range(b,a+1):\n",
        "            add += i\n",
        "    return add\n",
        "\n",
        "def program4():\n",
        "    a,b,c = input1()\n",
        "    add = 0\n",
        "    want = input(\"더하고 싶은 방식을 숫자로 입력하세요\\n1.숫자1+숫자2\\t2.숫자1+숫자3\\t3.숫자2+숫자3\\n>> \")\n",
        "    if (want==\"1\"):\n",
        "        result = add_a_b(a,b)\n",
        "    elif (want==\"2\"):\n",
        "        result = add_a_b(a,c)\n",
        "    elif (want==\"3\"):\n",
        "        result = add_a_b(b,c)\n",
        "    print(result)"
      ],
      "metadata": {
        "id": "boZLHZPEw6Qv"
      },
      "execution_count": 79,
      "outputs": []
    },
    {
      "cell_type": "code",
      "source": [
        "program4()"
      ],
      "metadata": {
        "colab": {
          "base_uri": "https://localhost:8080/"
        },
        "id": "V75fXHJAw6OV",
        "outputId": "e208abbc-14df-4b24-e83d-75305e64ae31"
      },
      "execution_count": 80,
      "outputs": [
        {
          "output_type": "stream",
          "name": "stdout",
          "text": [
            "숫자1 입력 : 4\n",
            "숫자2 입력 : 11\n",
            "숫자3 입력 : 17\n",
            "더하고 싶은 방식을 숫자로 입력하세요\n",
            "1.숫자1+숫자2\t2.숫자1+숫자3\t3.숫자2+숫자3\n",
            ">> 2\n",
            "147\n"
          ]
        }
      ]
    },
    {
      "cell_type": "markdown",
      "source": [
        "## 간단한 프로그램 함수로 구현하기5\n",
        "사용자가 도형 모양을 선택하고, 필요한 숫자를 입력받아 해당 도형을 출력하도록 프로그램을 구현하라"
      ],
      "metadata": {
        "id": "DwOq5VclygY7"
      }
    },
    {
      "cell_type": "code",
      "source": [
        "def one():\n",
        "    for i in range(1,7):\n",
        "        print(\"*\"* i)\n",
        "def two():\n",
        "    for i in range(1,7):\n",
        "        print(\" \"*(6-i)+\"*\"*i)\n",
        "def three():\n",
        "    for i in range(6,0,-1):\n",
        "        print(\"*\"*i)\n",
        "def four():\n",
        "    for i in range(6,0,-1):\n",
        "        print(\" \"*(6-i)+\"*\"*i)\n",
        "def five():\n",
        "    for i in range(6):\n",
        "        print(\" \"*(5-i),\"*\"*(2*i+1),\" \"*(5-i))\n",
        "def six():\n",
        "    for i in range(6):\n",
        "        print(\" \"*i,\"*\"*(11-2*i),\" \"*i)\n",
        "def seven():\n",
        "    for i in range(6):\n",
        "        if (i<3):\n",
        "            print(\" \"*(2-i),\"*\"*(2*i+1),\" \"*(2-i))\n",
        "        else:\n",
        "            print(\" \"*(-3+i),\"*\"*(11-2*i),\" \"*(-3+i))\n",
        "\n",
        "def program5():\n",
        "    choice = int(input(\"1부터 6까지의 숫자 중 선택하세요 >> \"))\n",
        "    if (choice==1):\n",
        "        one()\n",
        "    elif (choice==2):\n",
        "        two()\n",
        "    elif (choice==3):\n",
        "        three()\n",
        "    elif (choice==4):\n",
        "        four()\n",
        "    elif (choice==5):\n",
        "        five()\n",
        "    elif (choice==6):\n",
        "        six()\n",
        "    elif (choice==7):\n",
        "        seven()"
      ],
      "metadata": {
        "id": "yqz9UpkBw6I9"
      },
      "execution_count": 83,
      "outputs": []
    },
    {
      "cell_type": "code",
      "source": [
        "program5()"
      ],
      "metadata": {
        "colab": {
          "base_uri": "https://localhost:8080/"
        },
        "id": "Ww0XeW4ew6BV",
        "outputId": "33ce8d59-cb2b-4c7c-ea0b-97ffc67d8c5a"
      },
      "execution_count": 84,
      "outputs": [
        {
          "output_type": "stream",
          "name": "stdout",
          "text": [
            "1부터 6까지의 숫자 중 선택하세요 >> 1\n",
            "*\n",
            "**\n",
            "***\n",
            "****\n",
            "*****\n",
            "******\n"
          ]
        }
      ]
    },
    {
      "cell_type": "code",
      "source": [],
      "metadata": {
        "id": "Uz0sOzztw58D"
      },
      "execution_count": null,
      "outputs": []
    },
    {
      "cell_type": "code",
      "source": [
        "# 신기한 출력 색깔 바꾸기\n",
        "print('\\033[95m' + 'hello ' + '\\033[96m' + 'world!' + '\\033[0m')"
      ],
      "metadata": {
        "colab": {
          "base_uri": "https://localhost:8080/"
        },
        "id": "ADAwjat3t7tv",
        "outputId": "aff8eb39-8e67-4c10-c396-4d4421c681da"
      },
      "execution_count": 65,
      "outputs": [
        {
          "output_type": "stream",
          "name": "stdout",
          "text": [
            "\u001b[95mhello \u001b[96mworld!\u001b[0m\n"
          ]
        }
      ]
    },
    {
      "cell_type": "code",
      "source": [],
      "metadata": {
        "id": "r8bKUjYRt7_D"
      },
      "execution_count": null,
      "outputs": []
    }
  ]
}